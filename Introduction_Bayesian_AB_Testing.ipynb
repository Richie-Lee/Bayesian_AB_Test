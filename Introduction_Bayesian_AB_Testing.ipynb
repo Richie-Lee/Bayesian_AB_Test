{
  "nbformat": 4,
  "nbformat_minor": 0,
  "metadata": {
    "colab": {
      "provenance": [],
      "collapsed_sections": [
        "Apo5YMy0CIn1",
        "VsMmduGETNEO"
      ]
    },
    "kernelspec": {
      "name": "python3",
      "display_name": "Python 3"
    },
    "language_info": {
      "name": "python"
    }
  },
  "cells": [
    {
      "cell_type": "markdown",
      "source": [
        "---\n",
        "# Part 0: Introduction Bayesian Inference\n"
      ],
      "metadata": {
        "id": "Apo5YMy0CIn1"
      }
    },
    {
      "cell_type": "markdown",
      "source": [
        "The main distinguishing characteristic of Bayesian inference is its ability to incorporate information that is not captured in observed data in a statistically valid way:\n",
        "\n",
        "This concept is known as including a **prior** that is intended to reflect a belief about an outcome variable *before seeing any data*. This could come in the form of expert opinions, past research, gut feeling, business context, etc. Consequently, this prior is combined with the observational data\n",
        "\n",
        "The prior values should be specified before commencing analysis. Then, as more empirical evidence is observed we combine the two information sources to produce and apply our inference on what is known as a **posterior**.\n",
        "\n",
        "$$\n",
        "Posterior = Prior \\times \\text{Observed evidence}\n",
        "$$\n",
        "\n"
      ],
      "metadata": {
        "id": "7KtCB8D1WRy0"
      }
    },
    {
      "cell_type": "code",
      "execution_count": 51,
      "metadata": {
        "id": "1PtNgLo6RX1o"
      },
      "outputs": [],
      "source": [
        "import numpy as np\n",
        "import pandas as pd\n",
        "\n",
        "import seaborn as sns\n",
        "import matplotlib.pyplot as plt\n",
        "\n",
        "import scipy.stats as stats\n",
        "import random\n",
        "from datetime import datetime\n",
        "\n",
        "# Set the style & colors for the plots\n",
        "sns.set_style('darkgrid')\n",
        "_colors = plt.rcParams['axes.prop_cycle'].by_key()['color']\n",
        "\n",
        "# Control randomness for reproducibility\n",
        "random.seed(1)"
      ]
    },
    {
      "cell_type": "markdown",
      "source": [
        "---\n",
        "# Part 1: Data Generating Process\n"
      ],
      "metadata": {
        "id": "mJF6u30-wT2t"
      }
    },
    {
      "cell_type": "markdown",
      "source": [
        "In this A/B test example, the VOI is ```conversion_rate```, a commonly relevant (binary) variable that we can simulate by sampling from a **Bernoulli distribution**. The treatment effect can be simulated by changing the mean of the control/treatment group.\n",
        "\n",
        "User Input:\n",
        "- ``n`` = Sample sizes\n",
        "- ``true_prob`` = True conversion probability (with optional treatment effect)\n",
        "\n",
        "Output:\n",
        "- Two dictionaries: ```C``` (control), ```T``` (Treatment)\n",
        "  - ``n`` = Sample size\n",
        "  - ``true_prob`` = conversion rate of true DGP\n",
        "  - ``sample`` = conversion outcomes\n",
        "  - ``converted`` = total number of conversions = sum(sample)\n",
        "  - ``sample_conversion_rate`` = conversion rate of sample"
      ],
      "metadata": {
        "id": "vrQgHJyUYGpb"
      }
    },
    {
      "cell_type": "code",
      "source": [
        "# Define Control & Treatment DGP (Bernoulli distributed)\n",
        "C = {\"n\": 100, \"true_prob\": 0.5}\n",
        "T = {\"n\": 100, \"true_prob\": 0.55}"
      ],
      "metadata": {
        "id": "hPEonNXzZL2w"
      },
      "execution_count": 52,
      "outputs": []
    },
    {
      "cell_type": "code",
      "source": [
        "def get_bernoulli_sample(mean, n):\n",
        "    # Sample bernoulli distribution with relevant metrics\n",
        "    samples = [1 if random.random() < mean else 0 for _ in range(n)]\n",
        "    converted = sum(samples)\n",
        "    mean = converted/n\n",
        "\n",
        "    return samples, converted, mean\n",
        "\n",
        "C[\"sample\"], C[\"converted\"], C[\"sample_conversion_rate\"] = get_bernoulli_sample(mean = C[\"true_prob\"], n = C[\"n\"])\n",
        "T[\"sample\"], T[\"converted\"], T[\"sample_conversion_rate\"] = get_bernoulli_sample(mean = T[\"true_prob\"], n = T[\"n\"])\n",
        "\n",
        "# visualise data structure\n",
        "print(f\"Control: {C['sample'][:10]}, Sample Conversion_Rate = {C['sample_conversion_rate']} (true = {C['true_prob']}) \\nTreatment: {T['sample'][:10]}, Sample Conversion_Rate = {T['sample_conversion_rate']} (true = {T['true_prob']})\")\n",
        "print(f\"\\nsimulated treatment effect = {round((T['true_prob'] - C['true_prob'])*100, 2)}%\")"
      ],
      "metadata": {
        "colab": {
          "base_uri": "https://localhost:8080/"
        },
        "id": "Gka39nMvUrQq",
        "outputId": "7c6cd448-a23c-402d-c8b3-3af375a7b010"
      },
      "execution_count": 53,
      "outputs": [
        {
          "output_type": "stream",
          "name": "stdout",
          "text": [
            "Control: [1, 0, 0, 1, 1, 1, 0, 0, 1, 1], Sample Conversion_Rate = 0.47 (true = 0.5) \n",
            "Treatment: [1, 0, 0, 1, 1, 1, 1, 1, 1, 0], Sample Conversion_Rate = 0.61 (true = 0.55)\n",
            "\n",
            "simulated treatment effect = 5.0%\n"
          ]
        }
      ]
    },
    {
      "cell_type": "markdown",
      "source": [
        "---\n",
        "# Part 2: Prior\n"
      ],
      "metadata": {
        "id": "ir8ZqTj2wJk6"
      }
    },
    {
      "cell_type": "markdown",
      "source": [
        "When considering priors in Bayesian A/B testing, to understand (and control) their effect, it is important to recognise where exactly they are present.\n",
        "\n",
        "The following section elaborates on 2 types of priors:\n",
        "- Prior odds (Hypothesis prior)\n",
        "- Marginal likelihood prior (Parameter prior)"
      ],
      "metadata": {
        "id": "5NZu2mc9YDbW"
      }
    },
    {
      "cell_type": "markdown",
      "source": [
        "## Prior 1: Prior odds\n"
      ],
      "metadata": {
        "id": "GF35okE1CUP8"
      }
    },
    {
      "cell_type": "markdown",
      "source": [
        "**Definition: prior beliefs about probability of hypothesis being true.**\n",
        "\n",
        "$$\n",
        "Posterior = \\mathbf{Prior} \\times BF\n",
        "$$\n",
        "\n",
        "\n",
        "$$\n",
        "\\frac{P(H_1| \\text{Data})}{P(H_0| \\text{Data})} = \\frac{\\mathbf{P(H_1)}}{\\mathbf{P(H_0)}} \\times \\frac{P(\\text{Data}| H_1)}{P(\\text{Data}| H_0)}\n",
        "$$\n",
        "\n",
        "User input:\n",
        "- ```prior_odds``` = relative odds of alternative/null hypothesis being true. For example, a *prior_odds = 2* reflect 2:1 odds in favor of $H_1$ and thus claiming a prior belief of $H_1$ having twice as much likelihood of being true when compared to the $H_0$.\n"
      ],
      "metadata": {
        "id": "VsMmduGETNEO"
      }
    },
    {
      "cell_type": "code",
      "source": [
        "# Define Prior odds\n",
        "prior_odds = 1"
      ],
      "metadata": {
        "id": "yYUCzxUwZUCQ"
      },
      "execution_count": 54,
      "outputs": []
    },
    {
      "cell_type": "markdown",
      "source": [
        "## Prior 2: Marginal likelihood prior\n"
      ],
      "metadata": {
        "id": "KAJwSvWvCb14"
      }
    },
    {
      "cell_type": "markdown",
      "source": [
        "**Definition: prior beliefs about DGP parameter distributions, conditional on a hypothesis being true**\n",
        "\n",
        "In Bayesian A/B testing, observational evidence is captured in so-called **Bayes Factors (BF)**.\n",
        "\n",
        "$$\n",
        "Posterior = Prior \\times \\mathbf{BF}\n",
        "$$\n",
        "\n",
        "$$\n",
        "\\frac{P(H_1| \\text{Data})}{P(H_0| \\text{Data})} = \\frac{P(H_1)}{P(H_0)} \\times \\frac{\\mathbf{P(\\text{Data}| H_1)}}{\\mathbf{P(\\text{Data}| H_0)}}\n",
        "$$\n",
        "\n",
        "\n",
        "A Bayes Factor is a ratio of **Marginal Likelihoods**, not to be mistaken for normal likelihoods. In short: a Likelihood quantifies how probable the observed data is for a specific parameter value, while marginal likelihood averages the data's probability over all plausible parameter values within a given model through integration.\n",
        "\n",
        "$$\n",
        "P(\\text{Data}| H_0) = \\int P(\\text{Data}|\\lambda, H_0) \\mathbf{P(\\lambda|H_0)} \\, d\\lambda\n",
        "$$\n",
        "\n",
        "In this context, the parameter $\\lambda$ represents the conversion rate for the treatment/control group's (assumed) DGP, i.e. $data \\sim Bernoulli(\\lambda)$, over which we need to specify a prior as well. This affects how the averaging process in marginal likelihood is executed. In this context, the prior reflects the expected probability distribution of the conversion rate parameter for the bernoulli distribution behind the control/treatment data, thus a *prior belief on a DGP parameter distribution*.\n",
        "\n",
        "The assumed distribution here is a **Beta-Binomial distribution**, a distribution that fits our purposes because:\n",
        "- Only defined in range (0,1), just like our target variable ```conversion rate``` (probability)\n",
        "- Marginal Likelihood computation convenience\n",
        "- Beta-distributed priors are *conjugate*, meaning that they are guarenteed to preserve their beta distribution after being updated with data.\n",
        "\n",
        "see: https://medium.com/@ro.mo.flo47/the-beta-binomial-model-an-introduction-to-bayesian-statistics-154395875f93\n",
        "\n",
        "User input:\n",
        "- ```mean``` = prior belief on conversion rate\n",
        "- ```weight``` = prior distribution variance, or practically speaking, the degree of certainty in prior belief (recommended to play around with multiple values while inspecting the prior visualisations)."
      ],
      "metadata": {
        "id": "Eo5uR2RyIJ0s"
      }
    },
    {
      "cell_type": "code",
      "source": [
        "# Specify prior distribution (mean + \"weight\" as proxy for variance)\n",
        "mean_C, weight_C = 0.5, 1000\n",
        "mean_T, weight_T = 0.55, 1000"
      ],
      "metadata": {
        "id": "w9Qv81ewxt1d"
      },
      "execution_count": 55,
      "outputs": []
    },
    {
      "cell_type": "markdown",
      "source": [
        "Helper function to abstract away, the transformation steps to get from tangible prior beliefs on effect magnitude (mean) & associated certainty (weight) to Beta distributions parameters.\n",
        "\n",
        "Output:\n",
        "- Two dictionaries ```C_prior``` (Control), ```T_prior``` (Treatment):\n",
        "  - ```alpha``` = shape & location parameter, skews distribution to higher conversion rates ($\\lambda$ = 1)\n",
        "  - ```beta``` = shape & location parameter, skews distribution to lower conversion rates ($\\lambda$ = 0)"
      ],
      "metadata": {
        "id": "jb-NHotnW0Y6"
      }
    },
    {
      "cell_type": "code",
      "source": [
        "# Help function with determining alpha & beta\n",
        "def beta_helper(prior_prob, weight):\n",
        "    # Sample from Beta distribution: B(weight(prior belief) + 1, weight(1 - prior belief) + 1)\n",
        "    a = round(prior_prob, 2) * weight + 1\n",
        "    b = (1 - round(prior_prob, 2)) * weight + 1\n",
        "    return round(a), round(b)\n",
        "\n",
        "# parameters: Mean, weight\n",
        "C_prior, T_prior = dict(), dict()\n",
        "C_prior[\"alpha\"], C_prior[\"beta\"] = beta_helper(mean_C, weight_C)\n",
        "T_prior[\"alpha\"], T_prior[\"beta\"] = beta_helper(mean_T, weight_T)"
      ],
      "metadata": {
        "id": "hHa-N7nGUnNA"
      },
      "execution_count": 56,
      "outputs": []
    },
    {
      "cell_type": "markdown",
      "source": [
        "Plot priors:"
      ],
      "metadata": {
        "id": "C8XfWCE_BsLS"
      }
    },
    {
      "cell_type": "code",
      "source": [
        "# Visualisation function for beta distribution\n",
        "def plot_beta_distribution(T_alpha, T_beta, T_mean, C_alpha, C_beta, C_mean):\n",
        "    x = np.linspace(0, 1, 1000)\n",
        "\n",
        "    # Calculate the value of the pdf for each x value\n",
        "    C_dist = stats.beta.pdf(x, C_alpha, C_beta)\n",
        "    T_dist = stats.beta.pdf(x, T_alpha, T_beta)\n",
        "\n",
        "    # Plot distributions & means\n",
        "    plt.plot(x, C_dist, label=f'Control: α = {C_alpha}, β = {C_beta} (λ = {C_mean})', color = _colors[0])\n",
        "    plt.axvline(C_mean, color = _colors[0], linestyle = \"--\", alpha = 0.5)\n",
        "\n",
        "    plt.plot(x, T_dist, label=f'Treatment: α = {T_alpha}, β = {T_beta} (λ = {T_mean})', color = _colors[1])\n",
        "    plt.axvline(T_mean, color = _colors[1], linestyle = \"--\", alpha = 0.5)\n",
        "\n",
        "    plt.title('Prior conversion_rate Distributions (Beta-binomial)')\n",
        "    plt.xlabel('Conversion rate')\n",
        "    plt.ylim(bottom=0)\n",
        "    plt.legend()\n",
        "    plt.show()\n",
        "\n",
        "print(\"using helper function:\")\n",
        "plot_beta_distribution(T_prior[\"alpha\"], T_prior[\"beta\"], mean_T, C_prior[\"alpha\"], C_prior[\"beta\"], mean_C)"
      ],
      "metadata": {
        "id": "AmaYAHKhSDE8",
        "colab": {
          "base_uri": "https://localhost:8080/",
          "height": 490
        },
        "outputId": "ae246c46-bc13-4f8e-cbd3-700824cea61e"
      },
      "execution_count": 57,
      "outputs": [
        {
          "output_type": "stream",
          "name": "stdout",
          "text": [
            "using helper function:\n"
          ]
        },
        {
          "output_type": "display_data",
          "data": {
            "text/plain": [
              "<Figure size 640x480 with 1 Axes>"
            ],
            "image/png": "[encoded data removed]"
          },
          "metadata": {}
        }
      ]
    },
    {
      "cell_type": "markdown",
      "source": [
        "---\n",
        "# Part 3: Bayes Factor"
      ],
      "metadata": {
        "id": "lLWvJIRGB0LZ"
      }
    },
    {
      "cell_type": "markdown",
      "source": [
        "The Bayes Factor (BF), defined as a ratio of Marginal Likelihoods (not to be mistaken for a regular likelihood ratio) and can be interpreted as the data-driven component of Bayesian Infernece as all observational information should be captured in this term.\n",
        "\n",
        "$$\n",
        "Posterior = Prior \\times \\mathbf{BF}\n",
        "$$\n",
        "\n",
        "$$\n",
        "\\frac{P(H_1| \\text{Data})}{P(H_0| \\text{Data})} = \\frac{P(H_1)}{P(H_0)} \\times \\frac{\\mathbf{P(\\text{Data}| H_1)}}{\\mathbf{P(\\text{Data}| H_0)}}\n",
        "$$\n",
        "\n",
        "The Bayes factor reflect relative odds of alternative/null hypothesis being true, purely based on the data observed. For example, a *BF = 2* reflect 2:1 odds in favor of $H_1$ and thus claiming a prior belief of $H_1$ having twice as much likelihood of being true when compared to the $H_0$. An important property in Bayesian A/B testing is that this interpretation is preserved, even under early stopping of experiments (https://arxiv.org/abs/1602.05549)."
      ],
      "metadata": {
        "id": "hocOoeuTCr2t"
      }
    },
    {
      "cell_type": "markdown",
      "source": [
        "## Derivation Bayes Factor"
      ],
      "metadata": {
        "id": "tGHivgnXYcTe"
      }
    },
    {
      "cell_type": "markdown",
      "source": [
        "\n",
        "Given a (conjugate) Beta-binomial parameter prior, we can obtain our marginal likelihoods as follows:\n",
        "\n",
        "$$ P[data|H] = \\frac{Beta(\\alpha + c, \\beta + (n-c) )}{\\beta(\\alpha, \\beta)} = \\frac{(\n",
        "  \\frac{\\Gamma(\\alpha + c)\\Gamma(\\beta + (n-c))}{\\Gamma(\\alpha + \\beta + n)})\n",
        "}{(\\frac{\\Gamma(\\alpha)\\Gamma(\\beta)}{\\Gamma(\\alpha + \\beta)})}$$\n",
        "where:\n",
        "- $\\alpha$, $\\beta$ = Beta-prior parameters,\n",
        "- *c* = total number of conversions\n",
        "- *n* = sample size.\n",
        "- $\\Gamma(\\theta)$ = Gamma function = $\\int_0^\\infty x^{\\theta-1} e^{-x} \\, dx$\n",
        "\n",
        "The main question becomes which parameters to plug in this function, as multiple combinations of values can be justified. To capture the following Hypotheses\n",
        "\n",
        "$$ \\mathbf{H_0}: \\lambda_{control} = \\lambda_{treatment} \\qquad\\quad \\mathbf{H_1}: \\lambda_{control} \\neq \\lambda_{treatment} $$\n",
        "\n",
        "we can employ the following design:\n",
        "\n",
        "### H0: The Null Hypothesis - Same Distribution\n",
        "\n",
        "- **Marginal Likelihood**:\n",
        "  $$P[data_{t} + data_{c}|H_0] = \\frac{Beta(\\alpha_0 + c_t + c_c, \\beta_0 + (n_t + n_c - c_t - c_c))}{\\beta(\\alpha_0, \\beta_0)} $$\n",
        "\n",
        "- **Intuition**:\n",
        "  We're treating the treatment and control groups as if they're one big group. We're asking, \"Given our prior beliefs and the observed data, what's the likelihood that both groups follow the same conversion distribution?\"\n",
        "\n",
        "- **Data Scientist Context**:\n",
        "  Think of it like pooling the results of two A/B test variants and evaluating how probable the combined data is, under the assumption that there's no difference between them.\n",
        "\n",
        "\n",
        "\n",
        "### H1: The Alternative Hypothesis - Different Distributions\n",
        "\n",
        "- **Marginal Likelihood**:\n",
        "  $$P[data_{t}, data_{c}|H_1] = \\frac{Beta(\\alpha_t + c_t, \\beta_t + (n_t - c_t))}{\\beta(\\alpha_t, \\beta_t)} \\times \\frac{Beta(\\alpha_c + c_c, \\beta_c + (n_c - c_c))}{\\beta(\\alpha_c, \\beta_c)} $$\n",
        "\n",
        "- **Intuition**:\n",
        "  Here, we're separating the treatment and control groups, evaluating each on its own. It's like asking, \"How likely is the data if the treatment and control groups follow different conversion distributions?\"\n",
        "\n",
        "- **Data Scientist Context**:\n",
        "  It's akin to evaluating two A/B test variants individually. You're trying to determine if each variant's data is more probable under the assumption that they come from distinct underlying distributions.\n",
        "- Note that for these hypotheses, $\\alpha_0$, $\\beta_0$ are equal to $\\alpha_c$, $\\beta_c$ by construction, when assuming no treatment effect on the control group.\n",
        "\n",
        "### Bayes Factor\n",
        "\n",
        "Using the results above, the Bayes Factor becomes:\n",
        "\n",
        "$$BF_{H_1|H_0} = \\frac{\n",
        "  P[data_{t}, data_{c}|H_1]}{P[data_{t} + data_{c}|H_0]}\n",
        "= \\frac{(\n",
        "  \\frac{Beta(\\alpha_t + c_t, \\beta_t + (n_t - c_t))}{\\beta(\\alpha_t, \\beta_t)} \\times \\frac{Beta(\\alpha_c + c_c, \\beta_c + (n_c - c_c))}{\\beta(\\alpha_c, \\beta_c)}\n",
        ")}{\n",
        "  \\frac{Beta(\\alpha_0 + c_t + c_c, \\beta_0 + (n_t + n_c - c_t - c_c))}{\\beta(\\alpha_0, \\beta_0)}\n",
        "} $$\n"
      ],
      "metadata": {
        "id": "yW0xYLuCYay2"
      }
    },
    {
      "cell_type": "markdown",
      "source": [
        "## Python implementation\n",
        "\n",
        "This implementation uses ```scipy.special.betaln```, a beta function that uses logarithms to bypass computational issues we would face otherwise when scaling sample sizes up."
      ],
      "metadata": {
        "id": "6lLpXql5ZqSJ"
      }
    },
    {
      "cell_type": "code",
      "source": [
        "from scipy.special import betaln\n",
        "\n",
        "def beta_bayes_factor(alpha_0, beta_0, alpha_t, beta_t, alpha_c, beta_c, c_t, n_t, c_c, n_c):\n",
        "    # Log probability of data under H0\n",
        "    log_prob_data_H0 = betaln(alpha_0 + c_t + c_c, beta_0 + n_t + n_c - c_t - c_c) - betaln(alpha_0, beta_0)\n",
        "\n",
        "    # Log probability of data under H1 for treatment group\n",
        "    log_prob_data_H1_treatment = betaln(alpha_t + c_t, beta_t + n_t - c_t) - betaln(alpha_t, beta_t)\n",
        "\n",
        "    # Log probability of data under H1 for control group\n",
        "    log_prob_data_H1_control = betaln(alpha_c + c_c, beta_c + n_c - c_c) - betaln(alpha_c, beta_c)\n",
        "\n",
        "    # Log joint probability of data under H1\n",
        "    log_prob_data_H1 = log_prob_data_H1_treatment + log_prob_data_H1_control\n",
        "\n",
        "    # Compute Log Bayes Factor and convert to regular Bayes Factor\n",
        "    log_BF_10 = log_prob_data_H1 - log_prob_data_H0\n",
        "    bf_10 = np.exp(log_BF_10)\n",
        "\n",
        "    return bf_10\n",
        "\n",
        "# Collect the correct parameters:\n",
        "alpha_0, beta_0 = C_prior[\"alpha\"], C_prior[\"beta\"]\n",
        "alpha_t, beta_t = T_prior[\"alpha\"], T_prior[\"beta\"]\n",
        "alpha_c, beta_c = C_prior[\"alpha\"], C_prior[\"beta\"]\n",
        "c_t, n_t = T[\"converted\"], T[\"n\"]  # Successes and total observations for treatment group\n",
        "c_c, n_c = C[\"converted\"], C[\"n\"]  # Successes and total observations for control group\n",
        "\n",
        "beta_bayes_factor = beta_bayes_factor(alpha_0, beta_0, alpha_t, beta_t, alpha_c, beta_c, c_t, n_t, c_c, n_c)\n",
        "print(f\"Bayes Factor (BF_10) = {beta_bayes_factor}\")"
      ],
      "metadata": {
        "colab": {
          "base_uri": "https://localhost:8080/"
        },
        "id": "K1AQHLFSaVhK",
        "outputId": "2bfbafdf-ef9f-4685-a225-8b2946a3ca51"
      },
      "execution_count": 58,
      "outputs": [
        {
          "output_type": "stream",
          "name": "stdout",
          "text": [
            "Bayes Factor (BF_10) = 5.341429662841594\n"
          ]
        }
      ]
    },
    {
      "cell_type": "markdown",
      "source": [
        "---\n",
        "# Part 4: Posterior & Inference"
      ],
      "metadata": {
        "id": "GcPyIce0cga9"
      }
    },
    {
      "cell_type": "markdown",
      "source": [
        "\n",
        "$$\n",
        "\\mathbf{Posterior} = Prior \\times BF\n",
        "$$\n",
        "\n",
        "$$\n",
        "\\frac{\\mathbf{P(H_1| \\text{Data})}}{\\mathbf{P(H_0| \\text{Data})}} = \\frac{P(H_1)}{P(H_0)} \\times \\frac{P(\\text{Data}| H_1)}{P(\\text{Data}| H_0)}\n",
        "$$\n"
      ],
      "metadata": {
        "id": "FQGhORdkgUl_"
      }
    },
    {
      "cell_type": "code",
      "source": [
        "# Calculate post odds & convert to %\n",
        "post_odds = prior_odds * beta_bayes_factor\n",
        "prob_effect = round(post_odds / (post_odds + 1) * 100, 2)\n",
        "\n",
        "print(f\"Posterior probability of Signficant Treatment effect: {prob_effect}%\")"
      ],
      "metadata": {
        "id": "yakQdKFZiQbi",
        "colab": {
          "base_uri": "https://localhost:8080/"
        },
        "outputId": "f64eb7bd-b9d7-4b4d-bb99-adbf48bafbfb"
      },
      "execution_count": 59,
      "outputs": [
        {
          "output_type": "stream",
          "name": "stdout",
          "text": [
            "Posterior probability of Signficant Treatment effect: 84.23%\n"
          ]
        }
      ]
    }
  ]
}