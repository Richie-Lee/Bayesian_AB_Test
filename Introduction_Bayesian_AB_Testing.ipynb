{
  "nbformat": 4,
  "nbformat_minor": 0,
  "metadata": {
    "colab": {
      "provenance": []
    },
    "kernelspec": {
      "name": "python3",
      "display_name": "Python 3"
    },
    "language_info": {
      "name": "python"
    }
  },
  "cells": [
    {
      "cell_type": "markdown",
      "source": [
        "# Document Scope\n"
      ],
      "metadata": {
        "id": "FSwXoOnrtm_1"
      }
    },
    {
      "cell_type": "markdown",
      "source": [
        "This notebook is intended for readers with statistical foundations as a gentle introduction to Bayesian A/B testing (with early stopping). A lot of mathematical details are not included in the notebook for conciseness.\n",
        "\n",
        "In terms of practical context, we strive to measure the treatment effect on a conversion rate ($\\lambda$), defined as a probability $\\in$ (0, 1).\n",
        "\n",
        "The hypothesis of interest are:\n",
        "\n",
        "$$ \\mathbf{H_0}: \\lambda_{control} = \\lambda_{treatment} \\qquad\\quad \\mathbf{H_1}: \\lambda_{control} \\neq \\lambda_{treatment} $$\n",
        "\n",
        "Where a null hypothesis acceptance will imply no significant treatment effect, and a rejection is associated with a signficant treatment effect (note: in this design not necessarily positive).\n",
        "\n",
        "The remainder of the notebook is structured as follows:\n",
        "0. Introduction Bayesian Inference\n",
        "1. DGP\n",
        "2. Priors\n",
        "3. Bayes Factors\n",
        "4. Posterior & Inference\n",
        "5. Early Stopping"
      ],
      "metadata": {
        "id": "Y8VGCk2Vr6TS"
      }
    },
    {
      "cell_type": "markdown",
      "source": [
        "---\n",
        "# Part 0: Introduction Bayesian Inference\n"
      ],
      "metadata": {
        "id": "Apo5YMy0CIn1"
      }
    },
    {
      "cell_type": "markdown",
      "source": [
        "The main distinguishing characteristic of Bayesian inference is its ability to incorporate information that is not captured in observed data in a statistically valid way\n",
        "\n",
        "This concept is known as including a **prior** that is intended to reflect a belief about an outcome variable *before seeing any data*. This could come in the form of expert opinions, past research, gut feeling, business context, etc. Consequently, this prior is combined with the observational data\n",
        "\n",
        "The prior values should be specified before commencing analysis. Then, as more empirical evidence is observed we combine the two information sources to produce and apply our inference on what is known as a **posterior**.\n",
        "\n",
        "$$\n",
        "Posterior = Prior \\times \\text{Observed evidence}\n",
        "$$\n",
        "\n"
      ],
      "metadata": {
        "id": "7KtCB8D1WRy0"
      }
    },
    {
      "cell_type": "code",
      "execution_count": 1,
      "metadata": {
        "id": "1PtNgLo6RX1o"
      },
      "outputs": [],
      "source": [
        "# Import some basic packages\n",
        "import numpy as np\n",
        "import pandas as pd\n",
        "\n",
        "import seaborn as sns\n",
        "import matplotlib.pyplot as plt\n",
        "\n",
        "import scipy.stats as stats\n",
        "import random\n",
        "from datetime import datetime\n",
        "\n",
        "# Set the style & colors for the plots\n",
        "sns.set_style('darkgrid')\n",
        "_colors = plt.rcParams['axes.prop_cycle'].by_key()['color']\n",
        "\n",
        "# Control randomness for reproducibility\n",
        "random.seed(1)"
      ]
    },
    {
      "cell_type": "markdown",
      "source": [
        "---\n",
        "# Part 1: Data Generating Process\n"
      ],
      "metadata": {
        "id": "mJF6u30-wT2t"
      }
    },
    {
      "cell_type": "markdown",
      "source": [
        "In this A/B test example, the VOI is ```conversion_rate```, a commonly relevant (binary) variable that we can simulate by sampling from a **Bernoulli distribution**. The treatment effect can be simulated by changing the mean of the control/treatment group.\n",
        "\n",
        "User Input:\n",
        "- ``n`` = Sample sizes\n",
        "- ``true_prob`` = True conversion probability (with optional treatment effect)\n",
        "\n",
        "Output:\n",
        "- Two dictionaries: ```C``` (control), ```T``` (Treatment)\n",
        "  - ``n`` = Sample size\n",
        "  - ``true_prob`` = conversion rate of true DGP\n",
        "  - ``sample`` = conversion outcomes\n",
        "  - ``converted`` = total number of conversions = sum(sample)\n",
        "  - ``sample_conversion_rate`` = conversion rate of sample"
      ],
      "metadata": {
        "id": "vrQgHJyUYGpb"
      }
    },
    {
      "cell_type": "code",
      "source": [
        "# Define Control & Treatment DGP (Bernoulli distributed)\n",
        "C = {\"n\": 1000000, \"true_prob\": 0.5}\n",
        "T = {\"n\": 1000000, \"true_prob\": 0.5}"
      ],
      "metadata": {
        "id": "hPEonNXzZL2w"
      },
      "execution_count": 2,
      "outputs": []
    },
    {
      "cell_type": "code",
      "source": [
        "def get_bernoulli_sample(mean, n):\n",
        "    # Sample bernoulli distribution with relevant metrics\n",
        "    samples = [1 if random.random() < mean else 0 for _ in range(n)]\n",
        "    converted = sum(samples)\n",
        "    mean = converted/n\n",
        "\n",
        "    return samples, converted, mean\n",
        "\n",
        "C[\"sample\"], C[\"converted\"], C[\"sample_conversion_rate\"] = get_bernoulli_sample(mean = C[\"true_prob\"], n = C[\"n\"])\n",
        "T[\"sample\"], T[\"converted\"], T[\"sample_conversion_rate\"] = get_bernoulli_sample(mean = T[\"true_prob\"], n = T[\"n\"])\n",
        "\n",
        "# visualise data structure\n",
        "print(f\"Control: {C['sample'][:10]}, Sample Conversion_Rate = {C['sample_conversion_rate']} (true = {C['true_prob']}) \\nTreatment: {T['sample'][:10]}, Sample Conversion_Rate = {T['sample_conversion_rate']} (true = {T['true_prob']})\")\n",
        "print(f\"\\nsimulated treatment effect = {round((T['true_prob'] - C['true_prob'])*100, 2)}%\")"
      ],
      "metadata": {
        "colab": {
          "base_uri": "https://localhost:8080/"
        },
        "id": "Gka39nMvUrQq",
        "outputId": "1dd58237-7332-4fd5-8fc6-691874eeaf97"
      },
      "execution_count": 3,
      "outputs": [
        {
          "output_type": "stream",
          "name": "stdout",
          "text": [
            "Control: [1, 0, 0, 1, 1, 1, 0, 0, 1, 1], Sample Conversion_Rate = 0.499559 (true = 0.5) \n",
            "Treatment: [1, 0, 1, 1, 1, 1, 0, 1, 1, 0], Sample Conversion_Rate = 0.499961 (true = 0.5)\n",
            "\n",
            "simulated treatment effect = 0.0%\n"
          ]
        }
      ]
    },
    {
      "cell_type": "markdown",
      "source": [
        "---\n",
        "# Part 2: Prior\n"
      ],
      "metadata": {
        "id": "ir8ZqTj2wJk6"
      }
    },
    {
      "cell_type": "markdown",
      "source": [
        "When considering priors in Bayesian A/B testing, to understand (and control) their effect, it is important to recognise where exactly they are present.\n",
        "\n",
        "The following section elaborates on 2 types of priors:\n",
        "- Prior odds (Hypothesis prior)\n",
        "- Marginal likelihood prior (Parameter prior)"
      ],
      "metadata": {
        "id": "5NZu2mc9YDbW"
      }
    },
    {
      "cell_type": "markdown",
      "source": [
        "## Prior 1: Prior odds\n"
      ],
      "metadata": {
        "id": "GF35okE1CUP8"
      }
    },
    {
      "cell_type": "markdown",
      "source": [
        "**Definition: prior beliefs about probability of hypothesis being true.**\n",
        "\n",
        "$$\n",
        "Posterior = \\mathbf{Prior} \\times BF\n",
        "$$\n",
        "\n",
        "\n",
        "$$\n",
        "\\frac{P(H_1| \\text{Data})}{P(H_0| \\text{Data})} = \\frac{\\mathbf{P(H_1)}}{\\mathbf{P(H_0)}} \\times \\frac{P(\\text{Data}| H_1)}{P(\\text{Data}| H_0)}\n",
        "$$\n",
        "\n",
        "User input:\n",
        "- ```prior_odds``` = relative odds of alternative/null hypothesis being true. For example, a *prior_odds = 2* reflect 2:1 odds in favor of $H_1$ and thus claiming a prior belief of $H_1$ having twice as much likelihood of being true when compared to the $H_0$.\n"
      ],
      "metadata": {
        "id": "VsMmduGETNEO"
      }
    },
    {
      "cell_type": "code",
      "source": [
        "# Define Prior odds\n",
        "prior_odds = 1"
      ],
      "metadata": {
        "id": "yYUCzxUwZUCQ"
      },
      "execution_count": 4,
      "outputs": []
    },
    {
      "cell_type": "markdown",
      "source": [
        "## Prior 2: Marginal likelihood prior\n"
      ],
      "metadata": {
        "id": "KAJwSvWvCb14"
      }
    },
    {
      "cell_type": "markdown",
      "source": [
        "**Definition: prior beliefs about DGP parameter distributions, conditional on a hypothesis being true**\n",
        "\n",
        "In Bayesian A/B testing, observational evidence is captured in so-called **Bayes Factors (BF)**.\n",
        "\n",
        "$$\n",
        "Posterior = Prior \\times \\mathbf{BF}\n",
        "$$\n",
        "\n",
        "$$\n",
        "\\frac{P(H_1| \\text{Data})}{P(H_0| \\text{Data})} = \\frac{P(H_1)}{P(H_0)} \\times \\frac{\\mathbf{P(\\text{Data}| H_1)}}{\\mathbf{P(\\text{Data}| H_0)}}\n",
        "$$\n",
        "\n",
        "\n",
        "A Bayes Factor is a ratio of **Marginal Likelihoods**, not to be mistaken for normal likelihoods. In short: a Likelihood quantifies how probable the observed data is for a specific parameter value, while marginal likelihood averages the data's probability over all plausible parameter values within a given model through integration.\n",
        "\n",
        "$$\n",
        "P(\\text{Data}| H_0) = \\int P(\\text{Data}|\\lambda, H_0) \\mathbf{P(\\lambda|H_0)} \\, d\\lambda\n",
        "$$\n",
        "\n",
        "In this context, the parameter $\\lambda$ represents the conversion rate for the treatment/control group's (assumed) DGP, i.e. $data \\sim Bernoulli(\\lambda)$, over which we need to specify a prior as well. This affects how the averaging process in marginal likelihood is executed. In this context, the prior reflects the expected probability distribution of the conversion rate parameter for the bernoulli distribution behind the control/treatment data, thus a *prior belief on a DGP parameter distribution*.\n",
        "\n",
        "The assumed distribution here is a **Beta-Binomial distribution**, a distribution that fits our purposes because:\n",
        "- Only defined in range (0,1), just like our target variable ```conversion rate``` (probability)\n",
        "- Marginal Likelihood computation convenience\n",
        "- Beta-distributed priors are *conjugate*, meaning that they are guarenteed to preserve their beta distribution after being updated with data.\n",
        "\n",
        "see: https://medium.com/@ro.mo.flo47/the-beta-binomial-model-an-introduction-to-bayesian-statistics-154395875f93\n",
        "\n",
        "User input:\n",
        "- ```mean``` = prior belief on conversion rate\n",
        "- ```weight``` = prior distribution variance, or practically speaking, the degree of certainty in prior belief (recommended to play around with multiple values while inspecting the prior visualisations)."
      ],
      "metadata": {
        "id": "Eo5uR2RyIJ0s"
      }
    },
    {
      "cell_type": "code",
      "source": [
        "# Specify prior distribution (mean + \"weight\" as proxy for variance)\n",
        "mean_C, weight_C = 0.5, 10000\n",
        "mean_T, weight_T = 0.5, 10000"
      ],
      "metadata": {
        "id": "w9Qv81ewxt1d"
      },
      "execution_count": 5,
      "outputs": []
    },
    {
      "cell_type": "markdown",
      "source": [
        "Helper function to abstract away, the transformation steps to get from tangible prior beliefs on effect magnitude (mean) & associated certainty (weight) to Beta distributions parameters.\n",
        "\n",
        "Output:\n",
        "- Two dictionaries ```C_prior``` (Control), ```T_prior``` (Treatment):\n",
        "  - ```alpha``` = shape & location parameter, skews distribution to higher conversion rates ($\\lambda$ = 1)\n",
        "  - ```beta``` = shape & location parameter, skews distribution to lower conversion rates ($\\lambda$ = 0)"
      ],
      "metadata": {
        "id": "jb-NHotnW0Y6"
      }
    },
    {
      "cell_type": "code",
      "source": [
        "# Help function with determining alpha & beta\n",
        "def beta_helper(prior_prob, weight):\n",
        "    # Sample from Beta distribution: B(weight(prior belief) + 1, weight(1 - prior belief) + 1)\n",
        "    a = round(prior_prob, 2) * weight + 1\n",
        "    b = (1 - round(prior_prob, 2)) * weight + 1\n",
        "    return round(a), round(b)\n",
        "\n",
        "# parameters: Mean, weight\n",
        "C_prior, T_prior = dict(), dict()\n",
        "C_prior[\"alpha\"], C_prior[\"beta\"] = beta_helper(mean_C, weight_C)\n",
        "T_prior[\"alpha\"], T_prior[\"beta\"] = beta_helper(mean_T, weight_T)"
      ],
      "metadata": {
        "id": "hHa-N7nGUnNA"
      },
      "execution_count": 6,
      "outputs": []
    },
    {
      "cell_type": "markdown",
      "source": [
        "Plot priors:"
      ],
      "metadata": {
        "id": "C8XfWCE_BsLS"
      }
    },
    {
      "cell_type": "code",
      "source": [
        "# Visualisation function for beta distribution\n",
        "def plot_beta_distribution(T_alpha, T_beta, T_mean, C_alpha, C_beta, C_mean):\n",
        "    x = np.linspace(0, 1, 1000)\n",
        "\n",
        "    # Calculate the value of the pdf for each x value\n",
        "    C_dist = stats.beta.pdf(x, C_alpha, C_beta)\n",
        "    T_dist = stats.beta.pdf(x, T_alpha, T_beta)\n",
        "\n",
        "    # Plot distributions & means\n",
        "    plt.plot(x, C_dist, label=f'Control: α = {C_alpha}, β = {C_beta} (λ = {C_mean})', color = _colors[0])\n",
        "    plt.fill_between(x, C_dist, color = _colors[0], alpha=0.2)\n",
        "    plt.axvline(C_mean, color = _colors[0], linestyle = \"--\", alpha = 0.5)\n",
        "\n",
        "    plt.plot(x, T_dist, label=f'Treatment: α = {T_alpha}, β = {T_beta} (λ = {T_mean})', color = _colors[1])\n",
        "    plt.fill_between(x, T_dist, color = _colors[1], alpha=0.2)\n",
        "    plt.axvline(T_mean, color = _colors[1], linestyle = \"--\", alpha = 0.5)\n",
        "\n",
        "    plt.title('Conversion_rate Distributions (Beta-binomial)')\n",
        "    plt.xlabel('Conversion rate')\n",
        "    plt.xlim(0.3, 0.7)\n",
        "    plt.ylim(bottom=0)\n",
        "    plt.legend()\n",
        "    plt.show()\n",
        "\n",
        "print(\"using helper function:\")\n",
        "plot_beta_distribution(T_prior[\"alpha\"], T_prior[\"beta\"], mean_T, C_prior[\"alpha\"], C_prior[\"beta\"], mean_C)"
      ],
      "metadata": {
        "id": "AmaYAHKhSDE8",
        "colab": {
          "base_uri": "https://localhost:8080/",
          "height": 490
        },
        "outputId": "40e48b7e-3894-4c51-9fc8-6edf011a09e2"
      },
      "execution_count": 7,
      "outputs": [
        {
          "output_type": "stream",
          "name": "stdout",
          "text": [
            "using helper function:\n"
          ]
        },
        {
          "output_type": "display_data",
          "data": {
            "text/plain": [
              "<Figure size 640x480 with 1 Axes>"
            ],
            "image/png": "[encoded data removed]"
          },
          "metadata": {}
        }
      ]
    },
    {
      "cell_type": "markdown",
      "source": [
        "---\n",
        "# Part 3: Bayes Factor"
      ],
      "metadata": {
        "id": "lLWvJIRGB0LZ"
      }
    },
    {
      "cell_type": "markdown",
      "source": [
        "The Bayes Factor (BF), defined as a ratio of Marginal Likelihoods (not to be mistaken for a regular likelihood ratio) and can be interpreted as the data-driven component of Bayesian Infernece as all observational information should be captured in this term.\n",
        "\n",
        "$$\n",
        "Posterior = Prior \\times \\mathbf{BF}\n",
        "$$\n",
        "\n",
        "$$\n",
        "\\frac{P(H_1| \\text{Data})}{P(H_0| \\text{Data})} = \\frac{P(H_1)}{P(H_0)} \\times \\frac{\\mathbf{P(\\text{Data}| H_1)}}{\\mathbf{P(\\text{Data}| H_0)}}\n",
        "$$\n",
        "\n",
        "The Bayes factor reflect relative odds of alternative/null hypothesis being true, purely based on the data observed. For example, a *BF = 2* reflect 2:1 odds in favor of $H_1$ and thus claiming a prior belief of $H_1$ having twice as much likelihood of being true when compared to the $H_0$. An important property in Bayesian A/B testing is that this interpretation is preserved, even under early stopping of experiments (https://arxiv.org/abs/1602.05549)."
      ],
      "metadata": {
        "id": "hocOoeuTCr2t"
      }
    },
    {
      "cell_type": "markdown",
      "source": [
        "## Derivation Bayes Factor"
      ],
      "metadata": {
        "id": "tGHivgnXYcTe"
      }
    },
    {
      "cell_type": "markdown",
      "source": [
        "\n",
        "Given a (conjugate) Beta-binomial parameter prior, we can obtain our marginal likelihoods as follows:\n",
        "\n",
        "$$ P[data|H] = \\frac{Beta(\\alpha + c, \\beta + (n-c) )}{\\beta(\\alpha, \\beta)} = \\frac{(\n",
        "  \\frac{\\Gamma(\\alpha + c)\\Gamma(\\beta + (n-c))}{\\Gamma(\\alpha + \\beta + n)})\n",
        "}{(\\frac{\\Gamma(\\alpha)\\Gamma(\\beta)}{\\Gamma(\\alpha + \\beta)})}$$\n",
        "where:\n",
        "- $\\alpha$, $\\beta$ = Beta-prior parameters,\n",
        "- *c* = total number of conversions\n",
        "- *n* = sample size.\n",
        "- $\\Gamma(\\theta)$ = Gamma function = $\\int_0^\\infty x^{\\theta-1} e^{-x} \\, dx$\n",
        "\n",
        "The main question becomes which parameters to plug in this function, as multiple combinations of values can be justified. To capture the following Hypotheses\n",
        "\n",
        "$$ \\mathbf{H_0}: \\lambda_{control} = \\lambda_{treatment} \\qquad\\quad \\mathbf{H_1}: \\lambda_{control} \\neq \\lambda_{treatment} $$\n",
        "\n",
        "we can employ the following design:\n",
        "\n",
        "### H0: The Null Hypothesis - Same Distribution\n",
        "\n",
        "- **Marginal Likelihood**:\n",
        "  $$P[data_{t} + data_{c}|H_0] = \\frac{Beta(\\alpha_0 + c_t + c_c, \\beta_0 + (n_t + n_c - c_t - c_c))}{\\beta(\\alpha_0, \\beta_0)} $$\n",
        "\n",
        "- **Intuition**:\n",
        "  We're treating the treatment and control groups as if they're one big group. We're asking, \"Given our prior beliefs and the observed data, what's the likelihood that both groups follow the same conversion distribution?\"\n",
        "\n",
        "- **Data Scientist Context**:\n",
        "  Think of it like pooling the results of two A/B test variants and evaluating how probable the combined data is, under the assumption that there's no difference between them.\n",
        "\n",
        "\n",
        "\n",
        "### H1: The Alternative Hypothesis - Different Distributions\n",
        "\n",
        "- **Marginal Likelihood**:\n",
        "  $$P[data_{t}, data_{c}|H_1] = \\frac{Beta(\\alpha_t + c_t, \\beta_t + (n_t - c_t))}{\\beta(\\alpha_t, \\beta_t)} \\times \\frac{Beta(\\alpha_c + c_c, \\beta_c + (n_c - c_c))}{\\beta(\\alpha_c, \\beta_c)} $$\n",
        "\n",
        "- **Intuition**:\n",
        "  Here, we're separating the treatment and control groups, evaluating each on its own. It's like asking, \"How likely is the data if the treatment and control groups follow different conversion distributions?\"\n",
        "\n",
        "- **Data Scientist Context**:\n",
        "  It's akin to evaluating two A/B test variants individually. You're trying to determine if each variant's data is more probable under the assumption that they come from distinct underlying distributions.\n",
        "- Note that for these hypotheses, $\\alpha_0$, $\\beta_0$ are equal to $\\alpha_c$, $\\beta_c$ by construction, when assuming no treatment effect on the control group.\n",
        "\n",
        "### Bayes Factor\n",
        "\n",
        "Using the results above, the Bayes Factor becomes:\n",
        "\n",
        "$$BF_{H_1|H_0} = \\frac{\n",
        "  P[data_{t}, data_{c}|H_1]}{P[data_{t} + data_{c}|H_0]}\n",
        "= \\frac{(\n",
        "  \\frac{Beta(\\alpha_t + c_t, \\beta_t + (n_t - c_t))}{\\beta(\\alpha_t, \\beta_t)} \\times \\frac{Beta(\\alpha_c + c_c, \\beta_c + (n_c - c_c))}{\\beta(\\alpha_c, \\beta_c)}\n",
        ")}{\n",
        "  \\frac{Beta(\\alpha_0 + c_t + c_c, \\beta_0 + (n_t + n_c - c_t - c_c))}{\\beta(\\alpha_0, \\beta_0)}\n",
        "} $$\n"
      ],
      "metadata": {
        "id": "yW0xYLuCYay2"
      }
    },
    {
      "cell_type": "markdown",
      "source": [
        "## Python implementation\n",
        "\n",
        "This implementation uses ```scipy.special.betaln```, a beta function that uses logarithms to bypass computational issues we would face otherwise when scaling sample sizes up."
      ],
      "metadata": {
        "id": "6lLpXql5ZqSJ"
      }
    },
    {
      "cell_type": "code",
      "source": [
        "from scipy.special import betaln\n",
        "\n",
        "def beta_bayes_factor(alpha_0, beta_0, alpha_t, beta_t, alpha_c, beta_c, c_t, n_t, c_c, n_c):\n",
        "    # Log probability of data under H0\n",
        "    log_prob_data_H0 = betaln(alpha_0 + c_t + c_c, beta_0 + n_t + n_c - c_t - c_c) - betaln(alpha_0, beta_0)\n",
        "\n",
        "    # Log probability of data under H1 for treatment group\n",
        "    log_prob_data_H1_treatment = betaln(alpha_t + c_t, beta_t + n_t - c_t) - betaln(alpha_t, beta_t)\n",
        "\n",
        "    # Log probability of data under H1 for control group\n",
        "    log_prob_data_H1_control = betaln(alpha_c + c_c, beta_c + n_c - c_c) - betaln(alpha_c, beta_c)\n",
        "\n",
        "    # Log joint probability of data under H1\n",
        "    log_prob_data_H1 = log_prob_data_H1_treatment + log_prob_data_H1_control\n",
        "\n",
        "    # Compute Log Bayes Factor and convert to regular Bayes Factor\n",
        "    log_BF_10 = log_prob_data_H1 - log_prob_data_H0\n",
        "    bf_10 = np.exp(log_BF_10)\n",
        "\n",
        "    return bf_10\n",
        "\n",
        "# Collect the correct parameters:\n",
        "alpha_0, beta_0 = C_prior[\"alpha\"], C_prior[\"beta\"] # Prior H0 (By design equal to Prior Control)\n",
        "alpha_t, beta_t = T_prior[\"alpha\"], T_prior[\"beta\"] # Prior Treatment\n",
        "alpha_c, beta_c = C_prior[\"alpha\"], C_prior[\"beta\"] # Prior Control\n",
        "c_t, n_t = T[\"converted\"], T[\"n\"]  # Successes and total observations for treatment group\n",
        "c_c, n_c = C[\"converted\"], C[\"n\"]  # Successes and total observations for control group\n",
        "\n",
        "bayes_factor = beta_bayes_factor(alpha_0, beta_0, alpha_t, beta_t, alpha_c, beta_c, c_t, n_t, c_c, n_c)\n",
        "print(f\"Bayes Factor (BF_10) = {bayes_factor}\")"
      ],
      "metadata": {
        "colab": {
          "base_uri": "https://localhost:8080/"
        },
        "id": "K1AQHLFSaVhK",
        "outputId": "4ed1ad15-ad95-4b11-ceb4-c784ddb9f356"
      },
      "execution_count": 8,
      "outputs": [
        {
          "output_type": "stream",
          "name": "stdout",
          "text": [
            "Bayes Factor (BF_10) = 0.16455254053497237\n"
          ]
        }
      ]
    },
    {
      "cell_type": "markdown",
      "source": [
        "---\n",
        "# Part 4: Posterior & Inference"
      ],
      "metadata": {
        "id": "GcPyIce0cga9"
      }
    },
    {
      "cell_type": "markdown",
      "source": [
        "Given the hypotheses:\n",
        "\n",
        "$$ \\mathbf{H_0}: \\lambda_{control} = \\lambda_{treatment} \\qquad\\quad \\mathbf{H_1}: \\lambda_{control} \\neq \\lambda_{treatment} $$\n",
        "\n",
        "By combining the prior with the observational evidence (Bayes Factor), we can now derive the posterior probability for significant treatment effect as follows:\n",
        "\n",
        "$$\n",
        "\\mathbf{Posterior} = Prior \\times BF\n",
        "$$\n",
        "\n",
        "$$\n",
        "\\frac{\\mathbf{P(H_1| \\text{Data})}}{\\mathbf{P(H_0| \\text{Data})}} = \\frac{P(H_1)}{P(H_0)} \\times \\frac{P(\\text{Data}| H_1)}{P(\\text{Data}| H_0)}\n",
        "$$\n",
        "\n",
        "Note that specific set of hypotheses targets the probability of *a significant treatment effect* ($P[\\lambda_t \\neq \\lambda_c]$), not to be mistaken for the probability of a positive effect (P[$\\lambda_t > \\lambda_c$]), which would require a one-sided test."
      ],
      "metadata": {
        "id": "FQGhORdkgUl_"
      }
    },
    {
      "cell_type": "code",
      "source": [
        "# Calculate post odds & convert to %\n",
        "post_odds = prior_odds * bayes_factor\n",
        "prob_effect = round(post_odds / (post_odds + 1) * 100, 2)\n",
        "\n",
        "print(f\"Posterior probability of Signficant Treatment effect: {prob_effect}%\")"
      ],
      "metadata": {
        "id": "yakQdKFZiQbi",
        "colab": {
          "base_uri": "https://localhost:8080/"
        },
        "outputId": "44f64e7b-6e69-474c-ab0d-96521feb8161"
      },
      "execution_count": 9,
      "outputs": [
        {
          "output_type": "stream",
          "name": "stdout",
          "text": [
            "Posterior probability of Signficant Treatment effect: 14.13%\n"
          ]
        }
      ]
    },
    {
      "cell_type": "markdown",
      "source": [
        "## Experimentation metrics\n",
        "Following: https://medium.com/towards-data-science/bayesian-experimentation-metrics-explained-bd2faebd937e\n",
        "\n",
        "This section covers multiple experiment metrics that can directly be used to drive decision-making. All of these rest on the *posterior probabilities*.\n",
        "\n"
      ],
      "metadata": {
        "id": "IQB1VH8OdNJh"
      }
    },
    {
      "cell_type": "markdown",
      "source": [
        "### Uplift\n"
      ],
      "metadata": {
        "id": "gDX7LJE5mmaK"
      }
    },
    {
      "cell_type": "markdown",
      "source": [
        "**Definition:** *During the experiment, how much better did the treatment group perform than the control?*\n",
        "\n",
        "For our particular use-case here, this boils down to a simple difference in conversion rates.\n",
        "\n",
        "$$ \\text{Uplift} = \\frac{c_t}{n_t} - \\frac{c_c}{n_c}$$\n",
        "\n",
        "Note that this is simply describing what has occurred within the collected sample, and should not be assumed to necessarily extrapolate to future events."
      ],
      "metadata": {
        "id": "8O5GV5UjL4Sl"
      }
    },
    {
      "cell_type": "code",
      "source": [
        "# Uplift\n",
        "uplift = round(T[\"sample_conversion_rate\"] - C[\"sample_conversion_rate\"], 4)\n",
        "print(f\"uplift: {uplift}\")"
      ],
      "metadata": {
        "colab": {
          "base_uri": "https://localhost:8080/"
        },
        "id": "ros9q1YoMRf9",
        "outputId": "431f25b8-ae14-4859-a0d0-6ab435f4a85a"
      },
      "execution_count": 10,
      "outputs": [
        {
          "output_type": "stream",
          "name": "stdout",
          "text": [
            "uplift: 0.0004\n"
          ]
        }
      ]
    },
    {
      "cell_type": "markdown",
      "source": [
        "### Chance to beat control"
      ],
      "metadata": {
        "id": "_tYi9SiMmoOH"
      }
    },
    {
      "cell_type": "markdown",
      "source": [
        "**Definition:** *How likely is it that the Treatment group will out perform the Control group?*\n",
        "\n",
        "Unlike uplift, chance to beat control is a description of the underlying behaviour of the conversion rate, and it is therefore well suited to be used to draw conclusions about expected future behaviour.\n",
        "\n",
        "In terms of statistics, this boils down to a one-sided test to check whether the treatment mean ($\\lambda_t$) is larger than the control conversion rate ($\\lambda_c$), and is calculated as follows:\n",
        "\n",
        "$$ P[\\lambda_t > \\lambda_c | data] = \\int_0^1 \\int_0^{\\lambda_t} f_t(\\lambda_t) f_c(\\lambda_c) d\\lambda_c d\\lambda_t$$\n",
        "with $f(\\lambda)$ representing the (conjugate) posterior, Beta-Binomial pdf, evaluated in the sample mean $\\lambda$ (conversion rate):\n",
        "\n",
        "$$ f_t(\\cdot) = Beta(\\alpha_t + c_t, \\beta_t + (n_t - c_t)) $$\n",
        "$$ f_c(\\cdot) = Beta(\\alpha_c + c_c, \\beta_t + (n_c - c_c)) $$\n",
        "\n",
        "**Implementation:**\n",
        "Computing these integrals is often analytically complex and therefore troublesome. Instead, we can use **Monte Carlo integration** (i.e., drawing samples and averaging) as a practical and efficient method to approximate the integral's value:\n",
        "\n",
        "- Sample from posteriors: generate *S* observations (conversion probabilities) for both control and treatment:\n",
        "\n",
        "$$ x_{t} \\sim Beta(\\alpha_t + c_t, \\beta_t + (n_t - c_t))$$\n",
        "$$ x_{c} \\sim Beta(\\alpha_c + c_c, \\beta_c + (n_c - c_c))$$\n",
        "\n",
        "- Compare samples and get winner: evaluate samples in terms of pairs containing one control and one treatment observation, and count the number of occurences where treatment outperformed control, i.e. treatment converted and control didn't.\n",
        "\n",
        "$$ \\#[t > c] = \\sum^{S}_{i = 1} I[x_{t,i} > x_{c, i}]$$\n",
        "\n",
        "- Average comparisons: proportion of treatment exceeding control reflects the estimated chance to beat control.\n",
        "\n",
        "\n",
        "$$ P[\\lambda_t > \\lambda_c | data] ≈  \\frac{\\#[t > c]}{S}$$\n",
        "\n",
        "Note that it is a binary statistic (\"better\" or \"not better\") and should therefor not be linked to any uplift magnitudes."
      ],
      "metadata": {
        "id": "Go4Ld0X4dVY5"
      }
    },
    {
      "cell_type": "code",
      "source": [
        "from scipy.stats import beta\n",
        "\n",
        "def prob_treatment_greater_than_control(alpha_t, beta_t, alpha_c, beta_c, c_t, n_t, c_c, n_c, num_samples = 100_000):\n",
        "    # Compute posterior parameters\n",
        "    post_alpha_t, post_beta_t = alpha_t + c_t, beta_t + (n_t - c_t)\n",
        "    post_alpha_c, post_beta_c = alpha_c + c_c, beta_c + (n_c - c_c)\n",
        "\n",
        "    # Sample from the posterior distributions\n",
        "    theta_t_samples = beta.rvs(post_alpha_t, post_beta_t, size = num_samples)\n",
        "    theta_c_samples = beta.rvs(post_alpha_c, post_beta_c, size = num_samples)\n",
        "\n",
        "    # Calculate the proportion of times the treatment sample is greater than the control sample\n",
        "    proportion_greater = np.mean(theta_t_samples > theta_c_samples)\n",
        "\n",
        "    # Convert to percentage for interpretability\n",
        "    return round(proportion_greater * 100, 2)\n",
        "\n",
        "# Collect the correct parameters:\n",
        "alpha_t, beta_t = T_prior[\"alpha\"], T_prior[\"beta\"] # Prior Treatment\n",
        "alpha_c, beta_c = C_prior[\"alpha\"], C_prior[\"beta\"] # Prior Control\n",
        "c_t, n_t = T[\"converted\"], T[\"n\"]  # Successes and total observations for treatment group\n",
        "c_c, n_c = C[\"converted\"], C[\"n\"]  # Successes and total observations for control group\n",
        "\n",
        "# Calculate the probability\n",
        "prob_t_wins = prob_treatment_greater_than_control(alpha_t, beta_t, alpha_c, beta_c, c_t, n_t, c_c, n_c)\n",
        "print(f\"Chance to beat control: {prob_t_wins}%\")"
      ],
      "metadata": {
        "colab": {
          "base_uri": "https://localhost:8080/"
        },
        "id": "5kfF_OFbMRtQ",
        "outputId": "7f2ffd72-0729-4f4f-a8a7-5fa9bc056b42"
      },
      "execution_count": 11,
      "outputs": [
        {
          "output_type": "stream",
          "name": "stdout",
          "text": [
            "Chance to beat control: 71.42%\n"
          ]
        }
      ]
    },
    {
      "cell_type": "markdown",
      "source": [
        "### Loss"
      ],
      "metadata": {
        "id": "uSrrgZrgdZl9"
      }
    },
    {
      "cell_type": "markdown",
      "source": [
        "**Definition:** *If we choose the treatment when the control is actually superior, what is the corresponding expected loss?*\n",
        "\n",
        "In other words, this is a measure that quantifies the risk of a scenario where we choose to roll-out the treatment variant after wrongly identifying a positive effect. This metric can be expressed as follows:\n",
        "\n",
        "$$ E[\\lambda_c - \\lambda_t | \\lambda_c > \\lambda_t] = \\int_{0}^{1} \\int_{\\lambda_t}^{1} (\\lambda_c - \\lambda_t) \\cdot f_t(\\lambda_t) \\cdot f_c(\\lambda_c) \\, d\\lambda_c \\, d\\lambda_t $$\n",
        "\n",
        "here, where we can now conveniently reuse the individual Beta pdfs $f_t(\\cdot)$ and $f_c(\\cdot)$, we'd usually require the joint pdf $f_{t,c}(\\lambda_t, \\lambda_c)$, but given the A/B testing setting, we can reasonably assume independence due to their respective isolated DGPs (by design). Moreover, we use the inner integral bounds $\\lambda_t$ to 1 ensure we are only considering values where $\\lambda_c$ > $\\lambda_t$.\n",
        "\n",
        "**Implementation:**\n",
        "Like above, we avoid calculating a likely cumbersome integral through **Monte Carlo integration** as follows:\n",
        "\n",
        "- Sample from posteriors: generate *S* observations (conversion probabilities) for both control and treatment:\n",
        "\n",
        "$$ x_{t} \\sim Beta(\\alpha_t + c_t, \\beta_t + (n_t - c_t))$$\n",
        "$$ x_{c} \\sim Beta(\\alpha_c + c_c, \\beta_c + (n_c - c_c))$$\n",
        "\n",
        "- Compare samples and get difference: evaluate samples in terms of pairs containing one control and one treatment observation and calculate the average loss as follows:\n",
        "\n",
        "$$  E[\\lambda_c - \\lambda_t] ≈ \\frac{\\sum^{S}_{i = 1} \\delta_{i}}{S} = \\frac{\\sum^{S}_{i = 1} x_{c,i} - x_{t, i}}{S}$$\n",
        "\n",
        "- Condition on control being better: we are only interested in situations where control is indeed better than treatment. Therefore, we only consider the positive values of $\\delta_i$:\n",
        "\n",
        "$$  E[\\lambda_c - \\lambda_t | \\lambda_c > \\lambda_t] ≈ \\frac{\\sum^{S}_{i = 1} I[\\delta_i > 0] \\cdot \\delta_i}{S} = \\frac{\\sum^{S}_{i = 1} I[x_{c,i} > x_{t, i}](x_{c,i} - x_{t, i})}{S}$$\n",
        "\n",
        "\n",
        "\n",
        "\n",
        "\n",
        "\n",
        "\n",
        "\n",
        "\n"
      ],
      "metadata": {
        "id": "XpWUAgHarGyr"
      }
    },
    {
      "cell_type": "code",
      "source": [
        "from scipy.stats import beta\n",
        "\n",
        "def expected_loss_when_choosing_treatment(alpha_t, beta_t, alpha_c, beta_c, c_t, n_t, c_c, n_c, num_samples=10_000):\n",
        "    # Compute posterior parameters\n",
        "    post_alpha_t, post_beta_t = alpha_t + c_t, beta_t + (n_t - c_t)\n",
        "    post_alpha_c, post_beta_c = alpha_c + c_c, beta_c + (n_c - c_c)\n",
        "\n",
        "    # Sample from the posterior distributions\n",
        "    theta_t_samples = beta.rvs(post_alpha_t, post_beta_t, size=num_samples)\n",
        "    theta_c_samples = beta.rvs(post_alpha_c, post_beta_c, size=num_samples)\n",
        "\n",
        "    # Compute the differences for samples where control > treatment\n",
        "    differences = theta_c_samples - theta_t_samples\n",
        "    negative_differences = differences[theta_c_samples > theta_t_samples]\n",
        "\n",
        "    # Return the (rounded) average loss in %\n",
        "    if len(negative_differences) > 0:\n",
        "      expected_loss = np.mean(negative_differences)\n",
        "      return round(expected_loss, 4)\n",
        "    # If no samples where treatment < control, return 0 loss (note that this is rounded, as it should always be non-zero following stats concepts)\n",
        "    else:\n",
        "      return 0\n",
        "\n",
        "# Collect the correct parameters:\n",
        "alpha_t, beta_t = T_prior[\"alpha\"], T_prior[\"beta\"] # Prior Treatment\n",
        "alpha_c, beta_c = C_prior[\"alpha\"], C_prior[\"beta\"] # Prior Control\n",
        "c_t, n_t = T[\"converted\"], T[\"n\"]  # Successes and total observations for treatment group\n",
        "c_c, n_c = C[\"converted\"], C[\"n\"]  # Successes and total observations for control group\n",
        "\n",
        "loss_when_t = expected_loss_when_choosing_treatment(T_prior[\"alpha\"], T_prior[\"beta\"], C_prior[\"alpha\"], C_prior[\"beta\"], T[\"converted\"], T[\"n\"], C[\"converted\"], C[\"n\"])\n",
        "\n",
        "print(f\"Expected loss when wrongly choosing treatment: {loss_when_t}\")\n"
      ],
      "metadata": {
        "colab": {
          "base_uri": "https://localhost:8080/"
        },
        "id": "dcovB1kbY6sz",
        "outputId": "f28ec257-323a-4b49-f5ac-51fd23678008"
      },
      "execution_count": 12,
      "outputs": [
        {
          "output_type": "stream",
          "name": "stdout",
          "text": [
            "Expected loss when wrongly choosing treatment: 0.0004\n"
          ]
        }
      ]
    },
    {
      "cell_type": "markdown",
      "source": [
        "## Visualisation"
      ],
      "metadata": {
        "id": "svJU4RnB8AK9"
      }
    },
    {
      "cell_type": "markdown",
      "source": [
        "We can visualise the posterior distribution calculation:\n",
        "\n",
        "$$\n",
        "Posterior = Prior \\times BF\n",
        "$$\n",
        "\n",
        "$$\n",
        "\\frac{P(H_1| \\text{Data})}{P(H_0| \\text{Data})} = \\frac{P(H_1)}{P(H_0)} \\times \\frac{P(\\text{Data}| H_1)}{P(\\text{Data}| H_0)}\n",
        "$$\n",
        "\n",
        "In this specific context of binary A/B testing, the simulated outocomes based on the binomial distribution. It's not common to visualize the likelihood this way in Bayesian analysis, but for the purpose of understanding, we can use the binomial distribution scaled by a constant.\n",
        "\n",
        "Binomial probability mass function (pmf):\n",
        "$$P[X = k] = \\binom{n}{k} \\lambda^c (1 - \\lambda)^{n - c}$$"
      ],
      "metadata": {
        "id": "M6qz4LkM9U79"
      }
    },
    {
      "cell_type": "code",
      "source": [
        "from scipy.stats import beta, binom\n",
        "\n",
        "def plot_bayesian_update(alpha_prior, beta_prior, n, c):\n",
        "    # Generate a range of possible theta values\n",
        "    x = np.linspace(0, 1, 1000)\n",
        "\n",
        "    # Prior distribution\n",
        "    prior = beta.pdf(x, alpha_prior, beta_prior)\n",
        "    plt.plot(x, prior, label='Prior', color = _colors[0])\n",
        "    plt.fill_between(x, prior, color = _colors[0], alpha=0.2)\n",
        "\n",
        "    # Likelihood - binomial (normalised s.t. area under curve is equal to 1, for visualization)\n",
        "    likelihood = binom.pmf(c, n, x)\n",
        "    normalized_likelihood = likelihood / np.trapz(likelihood, x)\n",
        "    plt.plot(x, normalized_likelihood, label='Likelihood', color = _colors[1])\n",
        "    plt.fill_between(x, normalized_likelihood, color = _colors[1], alpha=0.2)\n",
        "\n",
        "    # Posterior distribution\n",
        "    posterior = beta.pdf(x, alpha_prior + c, beta_prior + n - c)\n",
        "    plt.plot(x, posterior, label='Posterior', color = _colors[2])\n",
        "    plt.fill_between(x, posterior, color = _colors[2], alpha=0.2)\n",
        "\n",
        "    plt.axvline(x = T[\"true_prob\"], label = \"True Conversion rate\", color = \"black\")\n",
        "\n",
        "    plt.legend()\n",
        "    plt.title('Prior, Likelihood and Posterior distributions')\n",
        "    plt.xlabel('Conversion rate')\n",
        "    plt.xlim(0.4, 0.6) # Manually change x range\n",
        "    plt.ylim(bottom = 0)\n",
        "    plt.show()\n",
        "\n",
        "# Example usage:\n",
        "print(\"Treatment group: \")\n",
        "plot_bayesian_update(T_prior[\"alpha\"], T_prior[\"beta\"], T[\"n\"], T[\"converted\"])"
      ],
      "metadata": {
        "colab": {
          "base_uri": "https://localhost:8080/",
          "height": 490
        },
        "id": "oWhVKxT6AH_Z",
        "outputId": "79b324fa-4be7-4308-9ae2-71e7bdf86677"
      },
      "execution_count": 13,
      "outputs": [
        {
          "output_type": "stream",
          "name": "stdout",
          "text": [
            "Treatment group: \n"
          ]
        },
        {
          "output_type": "display_data",
          "data": {
            "text/plain": [
              "<Figure size 640x480 with 1 Axes>"
            ],
            "image/png": "[encoded data removed]"
          },
          "metadata": {}
        }
      ]
    },
    {
      "cell_type": "markdown",
      "source": [
        "---\n",
        "# Part 5: Early Stopping"
      ],
      "metadata": {
        "id": "8bq0Jw9sTzjr"
      }
    },
    {
      "cell_type": "markdown",
      "source": [
        "In order to improve testing efficiency, instead of waiting for the complete dataset, we can utilize **sequential testing methods**. These methods involve collecting and analyzing data in sequential stages or increments. At each stage, interim results are evaluated, and a decision is made to either stop or continue sampling based on statistical early stopping rule criteria. Whereas in typical frequentist/classical methods, we'd rely on p-values; Bayesian Sequential Testing use bayes factors for this purpose.\n",
        "\n",
        "Given a Bayes factor (BF) and a threshold ```k``` (hyperparameter explained in next section), Our implementation defines the stopping rule as follows:\n",
        "\n",
        "$$\n",
        "\\text{For each interim test:    } \\left\\{\n",
        "\\begin{array}{ll}\n",
        "BF > k & \\text{STOP & Reject } H_0 \\\\\n",
        "BF < \\frac{1}{k} & \\text{STOP & Accept } H_0 \\\\\n",
        "\\text{otherwise} & \\text{continue sampling}\n",
        "\\end{array}\n",
        "\\right.\n",
        "$$\n",
        "\n",
        "This iterative process continues until sufficiently strong evidence is identified or a predetermined maximum sample size is reached.\n",
        "\n",
        "User input:\n",
        "- ```prob_early_stop``` = desired level of certainty before early stopping (%) = user-friendly transformation of ```k```\n",
        "- ```interim_test_interval``` = number of samples collected between each iterative test (larger interval → less tests → less compute)\n",
        "- ```print_es_progress``` = Print progress in terms of samples collected"
      ],
      "metadata": {
        "id": "o1HYzyeHFJwo"
      }
    },
    {
      "cell_type": "code",
      "source": [
        "prob_early_stop = 0.95\n",
        "interim_test_interval = 1000\n",
        "print_es_progress = False # Print progress"
      ],
      "metadata": {
        "id": "-xzpLs9ZVfcl"
      },
      "execution_count": 14,
      "outputs": []
    },
    {
      "cell_type": "markdown",
      "source": [
        "## Interpretation hyperparameter *k*\n"
      ],
      "metadata": {
        "id": "woPS5bb8ngIb"
      }
    },
    {
      "cell_type": "markdown",
      "source": [
        "Recall that the Bayes factor is defined as a ratio of hypothesis marginal likelihoods:\n",
        "\n",
        "$$ \\text{Bayes Factor} = BF_{1|0} = \\frac{P(\\text{Data}| H_1)}{P(\\text{Data}| H_0)} $$\n",
        "\n",
        "Given its numerical value represents odds in favor of the numerator (in this design the $H_1$). For example, a BF of 3 can be interpreted as 3:1 odds in favor of the $H_1$ and consequently a 75% probability when compared to its counterpart in the denominator ($H_0$). The hyperparameter ```k``` are the odds (k:1 in favor of $H_1$) that we define to be sufficiently conclusive to early stop. consequently, we can use $\\frac{1}{k}$ to symmetrically construct a stopping rule in favor of $H_0$ too.\n",
        "\n",
        "However, working with k can be unintuitive. Therefore decided to change the user input format to a probability (```prob_early_stop```), which we can then quite trivially transform to the corresponding odds, as shown below."
      ],
      "metadata": {
        "id": "cOeyg0oohZ47"
      }
    },
    {
      "cell_type": "code",
      "source": [
        "# Convert probability to odds (Bayes factors stopping rule)\n",
        "k = (prob_early_stop * 100) / (100 - (prob_early_stop * 100))\n",
        "print(f\"Given {prob_early_stop}% early stopping certainty: k = {k}\")\n",
        "\n",
        "# Prior (marginal likelihood)\n",
        "alpha_0, beta_0 = C_prior[\"alpha\"], C_prior[\"beta\"] # H0 (By design, equal to Prior Control)\n",
        "alpha_t, beta_t = T_prior[\"alpha\"], T_prior[\"beta\"] # Treatment\n",
        "alpha_c, beta_c = C_prior[\"alpha\"], C_prior[\"beta\"] # Control"
      ],
      "metadata": {
        "colab": {
          "base_uri": "https://localhost:8080/"
        },
        "id": "8BOfRPNvV45p",
        "outputId": "1ec4d566-ec31-4e3a-fded-d84044d9a366"
      },
      "execution_count": 15,
      "outputs": [
        {
          "output_type": "stream",
          "name": "stdout",
          "text": [
            "Given 0.95% early stopping certainty: k = 19.0\n"
          ]
        }
      ]
    },
    {
      "cell_type": "markdown",
      "source": [
        "Bayes Factor Early stopping implementation:"
      ],
      "metadata": {
        "id": "i9X-of1pnlTq"
      }
    },
    {
      "cell_type": "code",
      "source": [
        "# Initialise\n",
        "bayes_factor, n_observed = 0, 0\n",
        "interim_tests = []\n",
        "\n",
        "while n_observed <= T[\"n\"]:\n",
        "    c_t, n_t = sum(T[\"sample\"][:n_observed]), n_observed\n",
        "    c_c, n_c = sum(C[\"sample\"][:n_observed]), n_observed\n",
        "\n",
        "    # Get & store (beta) Bayes Factor\n",
        "    bayes_factor = beta_bayes_factor(alpha_0, beta_0, alpha_t, beta_t, alpha_c, beta_c, c_t, n_t, c_c, n_c)\n",
        "    interim_tests.append((n_observed, bayes_factor))\n",
        "\n",
        "    # option to print progress if desired\n",
        "    if print_es_progress == True:\n",
        "        print(f\"n: {n_observed}/{T['n']}, BF: {bayes_factor}\")\n",
        "\n",
        "    # Stopping criteria\n",
        "    if (bayes_factor > k or bayes_factor < 1/k):\n",
        "        break\n",
        "\n",
        "    # Extend sample & get conversions\n",
        "    n_observed += interim_test_interval"
      ],
      "metadata": {
        "id": "fh0SFFK5WKc7"
      },
      "execution_count": 16,
      "outputs": []
    },
    {
      "cell_type": "markdown",
      "source": [
        "## Early Stopping visualisation & performance metrics"
      ],
      "metadata": {
        "id": "9GsHDL2vnr4y"
      }
    },
    {
      "cell_type": "markdown",
      "source": [
        "The following plot visualises the movement of the early stopping criteria (BF) across the iterative interim tests for better insights in the convergence behaviour and speed.\n",
        "\n",
        "- Both early stopping thesholds are highlighted\n",
        "- y-axis uses logarithmic scale for visualisation purposes.\n",
        "- BF < 1: In favor of $H_0$ → Accept $H_0$, no effect identified (Red)\n",
        "- BF > 1: In favor of $H_1$ → Reject $H_0$, significant effect identfied (Green)\n",
        "\n"
      ],
      "metadata": {
        "id": "UF4vvQppkUiq"
      }
    },
    {
      "cell_type": "code",
      "source": [
        "def plot_early_stopping(interim_tests):\n",
        "    # plot stopping criteria\n",
        "    plt.axhline(y = 1, color = \"black\", linestyle = \"--\", linewidth = \"0.6\")\n",
        "    plt.axhline(y = k, color = \"black\", linestyle = \"--\", linewidth = \"0.6\")\n",
        "    plt.axhline(y = 1/k, color = \"black\", linestyle = \"--\", linewidth = \"0.6\")\n",
        "\n",
        "    # Plot interim testing Bayes-Factor development\n",
        "    if interim_tests[-1][1] > 1: # Reject H0 (Effect discovery)\n",
        "        color_i = \"green\"\n",
        "        conclusion = \"Significant effect (Reject H0)\"\n",
        "    else: # Accept H0 (No effect)\n",
        "        color_i = \"red\"\n",
        "        conclusion = \"No effect (Accept H0)\"\n",
        "\n",
        "    x, y = zip(*interim_tests)\n",
        "    plt.plot(x, y, linestyle = \"-\", linewidth = 0.7, color = color_i, label = conclusion)\n",
        "\n",
        "    # Set the y-axis to log scale\n",
        "    plt.yscale('log')\n",
        "    plt.xlabel(\"Sample size\")\n",
        "    plt.ylabel(\"Bayes Factor (log-scale)\")\n",
        "    plt.legend()\n",
        "    plt.title(f\"Early stopping BFs (n = {interim_tests[-1][0]}) - {conclusion}\")\n",
        "    plt.show()\n",
        "\n",
        "plot_early_stopping(interim_tests)"
      ],
      "metadata": {
        "colab": {
          "base_uri": "https://localhost:8080/",
          "height": 472
        },
        "id": "4ZBM7LT8ZLpM",
        "outputId": "09381b27-39f9-458f-93ce-a76d2b90731b"
      },
      "execution_count": 26,
      "outputs": [
        {
          "output_type": "display_data",
          "data": {
            "text/plain": [
              "<Figure size 640x480 with 1 Axes>"
            ],
            "image/png": "[encoded data removed]"
          },
          "metadata": {}
        }
      ]
    },
    {
      "cell_type": "markdown",
      "source": [
        "This segment enables us to see what effect the Early Stopping feature had on the experiment, compared to a fixed horizon Bayesian A/B test (metric interpretation is covered in part 4 of this notebook)."
      ],
      "metadata": {
        "id": "NpXBlvp5n6t8"
      }
    },
    {
      "cell_type": "code",
      "source": [
        "# !pip install tabulate\n",
        "from tabulate import tabulate\n",
        "\n",
        "# Calculate experimentation metrics\n",
        "es_prob_effect = round((prior_odds * bayes_factor) / ((prior_odds * bayes_factor) + 1) * 100, 2)\n",
        "es_uplift = round(c_t/n_t - c_c/n_c, 4)\n",
        "es_prob_t_wins = prob_treatment_greater_than_control(alpha_t, beta_t, alpha_c, beta_c, c_t, n_t, c_c, n_c)\n",
        "es_loss_when_t = expected_loss_when_choosing_treatment(alpha_t, beta_t, alpha_c, beta_c, c_t, n_t, c_c, n_c)\n",
        "\n",
        "# Format print statement\n",
        "headers = [\"Metric\", \"Fixed horizon\", \"Early stopping\"]\n",
        "table_data = [\n",
        "    [\"n\", T['n'], n_t],\n",
        "    [\"posterior\", f\"{prob_effect}%\", f\"{es_prob_effect}%\"],\n",
        "    [\"uplift\", uplift, es_uplift],\n",
        "    [\"P[T > C]\", f\"{prob_t_wins}%\", f\"{es_prob_t_wins}%\"],\n",
        "    [\"Loss\", loss_when_t, es_loss_when_t]\n",
        "]\n",
        "\n",
        "# Print the table\n",
        "print(f\"True treatment effect: {round(T['true_prob'] - C['true_prob'], 4)}\\n\")\n",
        "print(tabulate(table_data, headers=headers))"
      ],
      "metadata": {
        "colab": {
          "base_uri": "https://localhost:8080/"
        },
        "id": "1jHYfyg1mFeE",
        "outputId": "99ef0524-0147-4b6a-fa02-e7701117b7e3"
      },
      "execution_count": 18,
      "outputs": [
        {
          "output_type": "stream",
          "name": "stdout",
          "text": [
            "True treatment effect: 0.0\n",
            "\n",
            "Metric     Fixed horizon    Early stopping\n",
            "---------  ---------------  ----------------\n",
            "n          1000000          1000000\n",
            "posterior  14.13%           14.13%\n",
            "uplift     0.0004           0.0004\n",
            "P[T > C]   71.42%           71.52%\n",
            "Loss       0.0004           0.0004\n"
          ]
        }
      ]
    },
    {
      "cell_type": "markdown",
      "source": [
        "Visualisation for conversion rate probability distribution estimations for both the fixed horizon and early stopping variant. Useful for visualising potential Bias/Variance trade-offs."
      ],
      "metadata": {
        "id": "7PIiCBwNpML1"
      }
    },
    {
      "cell_type": "code",
      "source": [
        "# Visualise differences in distributions for Fixed Horizon & Early Stopping\n",
        "print(f\"Treatment group (Fixed Horizon) with n = {T['n']}\")\n",
        "plot_bayesian_update(T_prior[\"alpha\"], T_prior[\"beta\"], T[\"n\"], T[\"converted\"]) # Fixed horizon\n",
        "print(f\"Treatment group (Early Stopping) with n = {n_t}\")\n",
        "plot_bayesian_update(T_prior[\"alpha\"], T_prior[\"beta\"], n_t, c_t) # Early stopping"
      ],
      "metadata": {
        "colab": {
          "base_uri": "https://localhost:8080/",
          "height": 963
        },
        "id": "FoYpewKnaTe8",
        "outputId": "77d7177f-66ee-4229-cef3-65e6f376507a"
      },
      "execution_count": 19,
      "outputs": [
        {
          "output_type": "stream",
          "name": "stdout",
          "text": [
            "Treatment group (Fixed Horizon) with n = 1000000\n"
          ]
        },
        {
          "output_type": "display_data",
          "data": {
            "text/plain": [
              "<Figure size 640x480 with 1 Axes>"
            ],
            "image/png": "[encoded data removed]"
          },
          "metadata": {}
        },
        {
          "output_type": "stream",
          "name": "stdout",
          "text": [
            "Treatment group (Early Stopping) with n = 1000000\n"
          ]
        },
        {
          "output_type": "display_data",
          "data": {
            "text/plain": [
              "<Figure size 640x480 with 1 Axes>"
            ],
            "image/png": "[encoded data removed]"
          },
          "metadata": {}
        }
      ]
    }
  ]
}