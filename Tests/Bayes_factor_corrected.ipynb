{
  "nbformat": 4,
  "nbformat_minor": 0,
  "metadata": {
    "colab": {
      "provenance": []
    },
    "kernelspec": {
      "name": "python3",
      "display_name": "Python 3"
    },
    "language_info": {
      "name": "python"
    }
  },
  "cells": [
    {
      "cell_type": "markdown",
      "source": [
        "# Part 0: Introduction Bayesian Inference\n",
        "\n",
        "The main distinguishing characteristic of Bayesian inference is its ability to incorporate information that is not captured in observed data in a statistically valid way:\n",
        "\n",
        "This concept is known as including a **prior** that is intended to reflect a belief about an outcome variable *before seeing any data*. This could come in the form of expert opinions, past research, gut feeling, business context, etc. Consequently, this prior is combined with the observational data\n",
        "\n",
        "The prior values should be specified before commencing analysis. Then, as more empirical evidence is observed we combine the two information sources to produce and apply our inference on what is known as a **posterior**.\n",
        "\n",
        "$$\n",
        "Posterior = Prior \\times \\text{Observed evidence}\n",
        "$$\n",
        "\n"
      ],
      "metadata": {
        "id": "7KtCB8D1WRy0"
      }
    },
    {
      "cell_type": "code",
      "execution_count": 2,
      "metadata": {
        "id": "1PtNgLo6RX1o"
      },
      "outputs": [],
      "source": [
        "import numpy as np\n",
        "import pandas as pd\n",
        "\n",
        "import seaborn as sns\n",
        "import matplotlib.pyplot as plt\n",
        "\n",
        "import scipy.stats as stats\n",
        "import random\n",
        "from datetime import datetime\n",
        "\n",
        "# Set the style & colors for the plots\n",
        "sns.set_style('darkgrid')\n",
        "_colors = plt.rcParams['axes.prop_cycle'].by_key()['color']\n",
        "\n",
        "# Control randomness for reproducibility\n",
        "random.seed(1)"
      ]
    },
    {
      "cell_type": "markdown",
      "source": [
        "---\n",
        "# Part 1: Data Generating Process\n"
      ],
      "metadata": {
        "id": "mJF6u30-wT2t"
      }
    },
    {
      "cell_type": "markdown",
      "source": [
        "In this A/B test example, the VOI is ```conversion_rate```, a commonly relevant (binary) variable that we can simulate by sampling from a **Bernoulli distribution**. The treatment effect can be simulated by changing the mean of the control/treatment group.\n",
        "\n",
        "User Input:\n",
        "- ``n`` = Sample sizes\n",
        "- ``true_prob`` = True conversion probability (with optional treatment effect)\n",
        "\n",
        "Output:\n",
        "- Two dictionaries: ```C``` (control), ```T``` (Treatment)\n",
        "  - ``n`` = Sample size\n",
        "  - ``true_prob`` = conversion rate of true DGP\n",
        "  - ``sample`` = conversion outcomes\n",
        "  - ``converted`` = total number of conversions = sum(sample)\n",
        "  - ``sample_conversion_rate`` = conversion rate of sample"
      ],
      "metadata": {
        "id": "vrQgHJyUYGpb"
      }
    },
    {
      "cell_type": "code",
      "source": [
        "# Define Control & Treatment DGP (Bernoulli distributed)\n",
        "C = {\"n\": 100000, \"true_prob\": 0.5}\n",
        "T = {\"n\": 100000, \"true_prob\": 0.55}"
      ],
      "metadata": {
        "id": "hPEonNXzZL2w"
      },
      "execution_count": 17,
      "outputs": []
    },
    {
      "cell_type": "code",
      "source": [
        "def get_bernoulli_sample(mean, n):\n",
        "    # Sample bernoulli distribution with relevant metrics\n",
        "    samples = [1 if random.random() < mean else 0 for _ in range(n)]\n",
        "    converted = sum(samples)\n",
        "    mean = converted/n\n",
        "\n",
        "    return samples, converted, mean\n",
        "\n",
        "C[\"sample\"], C[\"converted\"], C[\"sample_conversion_rate\"] = get_bernoulli_sample(mean = C[\"true_prob\"], n = C[\"n\"])\n",
        "T[\"sample\"], T[\"converted\"], T[\"sample_conversion_rate\"] = get_bernoulli_sample(mean = T[\"true_prob\"], n = T[\"n\"])\n",
        "\n",
        "# visualise data structure\n",
        "print(f\"Control: {C['sample'][:10]}, Sample Conversion_Rate = {C['sample_conversion_rate']} (true = {C['true_prob']}) \\nTreatment: {T['sample'][:10]}, Sample Conversion_Rate = {T['sample_conversion_rate']} (true = {T['true_prob']})\")\n",
        "print(f\"\\nsimulated treatment effect = {round((T['true_prob'] - C['true_prob'])*100, 2)}%\")"
      ],
      "metadata": {
        "colab": {
          "base_uri": "https://localhost:8080/"
        },
        "id": "Gka39nMvUrQq",
        "outputId": "d86cedd5-16b5-40b1-c182-a300224b30a8"
      },
      "execution_count": 18,
      "outputs": [
        {
          "output_type": "stream",
          "name": "stdout",
          "text": [
            "Control: [1, 1, 0, 0, 1, 1, 0, 0, 0, 0], Sample Conversion_Rate = 0.4979 (true = 0.5) \n",
            "Treatment: [0, 0, 1, 1, 0, 1, 1, 1, 0, 1], Sample Conversion_Rate = 0.52853 (true = 0.53)\n",
            "\n",
            "simulated treatment effect = 3.0%\n"
          ]
        }
      ]
    },
    {
      "cell_type": "markdown",
      "source": [
        "---\n",
        "# Part 2: Prior specifications"
      ],
      "metadata": {
        "id": "ir8ZqTj2wJk6"
      }
    },
    {
      "cell_type": "markdown",
      "source": [
        "When considering priors in Bayesian A/B testing, to understand (and control) their effect, it is important to recognise where exactly they are present.\n",
        "\n",
        "The following section elaborates on 2 types of priors:\n",
        "- Prior odds (Hypothesis prior)\n",
        "- Marginal likelihood prior (Parameter prior)"
      ],
      "metadata": {
        "id": "5NZu2mc9YDbW"
      }
    },
    {
      "cell_type": "markdown",
      "source": [
        "## Prior 1: Prior odds\n",
        "\n",
        "**Definition: prior beliefs about probability of hypothesis being true.**\n",
        "\n",
        "$$\n",
        "Posterior = \\mathbf{Prior} \\times BF\n",
        "$$\n",
        "\n",
        "\n",
        "$$\n",
        "\\frac{P(H_1| \\text{Data})}{P(H_0| \\text{Data})} = \\frac{\\mathbf{P(H_1)}}{\\mathbf{P(H_0)}} \\times \\frac{P(\\text{Data}| H_1)}{P(\\text{Data}| H_0)}\n",
        "$$\n",
        "\n",
        "User input:\n",
        "- ```prior_odds``` = relative odds of alternative/null hypothesis being true. For example, a *prior_odds = 2* reflect 2:1 odds in favor of $H_1$ and thus claiming a prior belief of $H_1$ having twice as much likelihood of being true when compared to the $H_0$.\n"
      ],
      "metadata": {
        "id": "VsMmduGETNEO"
      }
    },
    {
      "cell_type": "code",
      "source": [
        "# Define Prior odds\n",
        "prior_odds = 1"
      ],
      "metadata": {
        "id": "yYUCzxUwZUCQ"
      },
      "execution_count": 19,
      "outputs": []
    },
    {
      "cell_type": "markdown",
      "source": [
        "## Prior 2: Marginal likelihood prior\n",
        "\n",
        "**Definition: prior beliefs about DGP parameter distributions, conditional on a hypothesis being true**\n",
        "\n",
        "In Bayesian A/B testing, observational evidence is captured in so-called **Bayes Factors (BF)**.\n",
        "\n",
        "$$\n",
        "Posterior = Prior \\times \\mathbf{BF}\n",
        "$$\n",
        "\n",
        "$$\n",
        "\\frac{P(H_1| \\text{Data})}{P(H_0| \\text{Data})} = \\frac{P(H_1)}{P(H_0)} \\times \\frac{\\mathbf{P(\\text{Data}| H_1)}}{\\mathbf{P(\\text{Data}| H_0)}}\n",
        "$$\n",
        "\n",
        "\n",
        "A Bayes Factor is a ratio of **Marginal Likelihoods**, not to be mistaken for normal likelihoods. In short: a Likelihood quantifies how probable the observed data is for a specific parameter value, while marginal likelihood averages the data's probability over all plausible parameter values within a given model through integration.\n",
        "\n",
        "$$\n",
        "P(\\text{Data}| H_0) = \\int P(\\text{Data}|\\lambda, H_0) \\mathbf{P(\\lambda|H_0)} \\, d\\lambda\n",
        "$$\n",
        "\n",
        "In this context, the parameter $\\lambda$ represents the conversion rate for the treatment/control group's (assumed) DGP, i.e. $data \\sim Bernoulli(\\lambda)$, over which we need to specify a prior as well. This affects how the averaging process in marginal likelihood is executed. In this context, the prior reflects the expected probability distribution of the conversion rate parameter for the bernoulli distribution behind the control/treatment data, thus a *prior belief on a DGP parameter distribution*.\n",
        "\n",
        "The assumed distribution here is a **Beta-Binomial distribution**, a distribution that fits our purposes because:\n",
        "- Only defined in range (0,1), just like our target variable ```conversion rate``` (probability)\n",
        "- Marginal Likelihood computation convenience\n",
        "\n",
        "see: https://medium.com/@ro.mo.flo47/the-beta-binomial-model-an-introduction-to-bayesian-statistics-154395875f93\n",
        "\n",
        "User input:\n",
        "- ```mean``` = prior belief on conversion rate\n",
        "- ```weight``` = prior distribution variance, or practically speaking, the degree of certainty in prior belief (recommended to play around with multiple values while inspecting the prior visualisations)."
      ],
      "metadata": {
        "id": "Eo5uR2RyIJ0s"
      }
    },
    {
      "cell_type": "code",
      "source": [
        "# Specify prior distribution (mean + \"weight\" as proxy for variance)\n",
        "mean_C, weight_C = 0.5, 1000\n",
        "mean_T, weight_T = 0.55, 1000"
      ],
      "metadata": {
        "id": "w9Qv81ewxt1d"
      },
      "execution_count": null,
      "outputs": []
    },
    {
      "cell_type": "markdown",
      "source": [
        "Helper function to abstract away, the transformation steps to get from tangible prior beliefs on effect magnitude (mean) & associated certainty (weight) to Beta distributions parameters.\n",
        "\n",
        "Output:\n",
        "- Two dictionaries ```C_prior``` (Control), ```T_prior``` (Treatment):\n",
        "  - ```alpha``` = shape & location parameter, skews distribution to higher conversion rates ($\\lambda$ = 1)\n",
        "  - ```beta``` = shape & location parameter, skews distribution to lower conversion rates ($\\lambda$ = 0)"
      ],
      "metadata": {
        "id": "jb-NHotnW0Y6"
      }
    },
    {
      "cell_type": "code",
      "source": [
        "# Help function with determining alpha & beta\n",
        "def beta_helper(prior_prob, weight):\n",
        "    # Sample from Beta distribution: B(weight(prior belief) + 1, weight(1 - prior belief) + 1)\n",
        "    a = round(prior_prob, 2) * weight + 1\n",
        "    b = (1 - round(prior_prob, 2)) * weight + 1\n",
        "    return round(a), round(b)\n",
        "\n",
        "# parameters: Mean, weight\n",
        "C_prior, T_prior = dict(), dict()\n",
        "C_prior[\"alpha\"], C_prior[\"beta\"] = beta_helper(mean_C, weight_C)\n",
        "T_prior[\"alpha\"], T_prior[\"beta\"] = beta_helper(mean_T, weight_T)"
      ],
      "metadata": {
        "id": "hHa-N7nGUnNA"
      },
      "execution_count": null,
      "outputs": []
    },
    {
      "cell_type": "code",
      "source": [
        "# Visualisation function for beta distribution\n",
        "def plot_beta_distribution(T_alpha, T_beta, T_mean, C_alpha, C_beta, C_mean):\n",
        "    # Generate values between 0 and 1 (these are the possible values of a Beta distribution)\n",
        "    x = np.linspace(0, 1, 1000)\n",
        "\n",
        "    # Calculate the value of the pdf for each x value\n",
        "    C_dist = stats.beta.pdf(x, C_alpha, C_beta)\n",
        "    T_dist = stats.beta.pdf(x, T_alpha, T_beta)\n",
        "\n",
        "    # Plot distributions & means\n",
        "    plt.plot(x, C_dist, label=f'Control: α={C_alpha}, β={C_beta} (mean: {C_mean})', color = _colors[0])\n",
        "    plt.axvline(C_mean, color = _colors[0], linestyle = \"--\", alpha = 0.5)\n",
        "\n",
        "    plt.plot(x, T_dist, label=f'Treatment: α={T_alpha}, β={T_beta} (mean: {T_mean})', color = _colors[1])\n",
        "    plt.axvline(T_mean, color = _colors[1], linestyle = \"--\", alpha = 0.5)\n",
        "\n",
        "    plt.title('Prior conversion_rate Distributions (Beta-binomial)')\n",
        "    plt.xlabel('Conversion rate')\n",
        "    plt.ylabel('pdf(x)')\n",
        "    plt.ylim(bottom=0)\n",
        "    plt.legend()\n",
        "    plt.grid(True)\n",
        "    plt.show()\n",
        "\n",
        "print(\"using helper function:\")\n",
        "plot_beta_distribution(T_prior[\"alpha\"], T_prior[\"beta\"], mean_T, C_prior[\"alpha\"], C_prior[\"beta\"], mean_C)"
      ],
      "metadata": {
        "id": "AmaYAHKhSDE8"
      },
      "execution_count": null,
      "outputs": []
    },
    {
      "cell_type": "code",
      "source": [
        "# Visualisation function for beta distribution\n",
        "def plot_beta_distribution(T_alpha, T_beta, T_mean, C_alpha, C_beta, C_mean):\n",
        "    # Generate values between 0 and 1 (these are the possible values of a Beta distribution)\n",
        "    x = np.linspace(0, 1, 1000)\n",
        "\n",
        "    # Calculate the value of the pdf for each x value\n",
        "    C_dist = stats.beta.pdf(x, C_alpha, C_beta)\n",
        "    T_dist = stats.beta.pdf(x, T_alpha, T_beta)\n",
        "\n",
        "    # Plot distributions & means\n",
        "    plt.plot(x, C_dist, label=f'Control: α={C_alpha}, β={C_beta} (mean: {C_mean})', color = _colors[0])\n",
        "    plt.axvline(C_mean, color = _colors[0], linestyle = \"--\", alpha = 0.5)\n",
        "\n",
        "    plt.plot(x, T_dist, label=f'Treatment: α={T_alpha}, β={T_beta} (mean: {T_mean})', color = _colors[1])\n",
        "    plt.axvline(T_mean, color = _colors[1], linestyle = \"--\", alpha = 0.5)\n",
        "\n",
        "    plt.title('Beta Distribution')\n",
        "    plt.xlabel('x')\n",
        "    plt.ylabel('pdf(x)')\n",
        "    plt.ylim(bottom=0)\n",
        "    plt.legend()\n",
        "    plt.grid(True)\n",
        "    plt.show()"
      ],
      "metadata": {
        "id": "tAlbpr8Y_y40"
      },
      "execution_count": null,
      "outputs": []
    },
    {
      "cell_type": "markdown",
      "source": [
        "# Evidence evaluation\n",
        "- Effect estimation\n",
        "- Quantifying level of certainty\n",
        "\n",
        "---\n",
        "## Beta-Binomial Marginal Likelihood\n",
        "define (per group):\n",
        "- Observations:\n",
        "  - n (sample size)\n",
        "  - c (nr of conversions)\n",
        "- Prior (conditional on Hypothesis?):\n",
        "  - $\\alpha$\n",
        "  - $\\beta$\n",
        "\n",
        "Marginal likelihood:\n",
        "$$P[data|H] = \\binom{N}{C}\\frac{Beta(\\alpha + c, \\beta + (n - c)}{Beta(\\alpha, \\beta)}$$\n",
        "\n",
        "Likelihood:\n",
        "$$L(p; \\mathbf{x}) = \\prod_{i=1}^{n} p^{x_i} (1-p)^{1-x_i} = p^c(1 - p)^{n - c}$$\n",
        "\n",
        "Marginal Likelihood distribution (?):\n",
        "$$Beta(\\alpha + c, \\beta + (n - c))$$\n",
        "\n",
        "---\n",
        "**Current challenge:**\n",
        "What are the marginal likelihoods that should be divided & which parameters do we put in there?\n",
        "\n",
        "\n",
        "\n",
        "we have 6 options:\n",
        "1. Treatment + H0 prior (no effect)\n",
        "2. Treatment + H1 prior (effect)\n",
        "3. Control + H0 prior (no effect)\n",
        "4. Control + H1 prior (effect)\n",
        "5. Treatment + point estimate H0 prior (no effect)\n",
        "6. Treatment + point estimate H1 prior (effect)\n",
        "7. Control + point estimate H0 prior (no effect)\n",
        "8. Control + point estimate H1 prior (effect)\n",
        "\n",
        "Intuitively I'd think either:\n",
        "- 2 / 1 -> only considers T, checks whether it's more likely to belong to effect DGP or not\n",
        "- 1 / 3 -> conditions on no effect prior and weight T vs C (seems like frequentist?)\n",
        "- 2 / 5 -> Distributions of priors most accurately depict hypothesis design\n",
        "\n",
        "Sanity check:\n",
        "- 4 / 3 should strong favor H0 in presence of treatment\n",
        "\n",
        "old approach:\n",
        "- 6 / 5 compare likelihoods of hypotheses (point) for treatment only\n",
        "\n",
        "\n"
      ],
      "metadata": {
        "id": "657YBWTlYS-D"
      }
    },
    {
      "cell_type": "code",
      "source": [],
      "metadata": {
        "id": "D0Q7Im2mu-DL"
      },
      "execution_count": null,
      "outputs": []
    },
    {
      "cell_type": "markdown",
      "source": [
        "Different variations of ways to compute (marginal) likelihood for Beta-binomial distributions"
      ],
      "metadata": {
        "id": "8imLDSYOdbHr"
      }
    },
    {
      "cell_type": "code",
      "source": [
        "from math import comb\n",
        "from scipy.special import beta as beta_function\n",
        "\n",
        "import numpy as np\n",
        "from scipy.special import gammaln\n",
        "\n",
        "# Marginal likelihood (hypothesis: distribution)\n",
        "def marginal_likelihood_1(prior_alpha, prior_beta, n, converted):\n",
        "    # Beta distribution because prior Beta distribution is conjugate\n",
        "    beta_posterior = stats.beta(prior_alpha + converted, prior_beta + (n - converted))\n",
        "    samples = beta_posterior.rvs(size = 100_000)\n",
        "    return samples\n",
        "\n",
        "def marginal_likelihood_2(alpha, beta, n, converted):\n",
        "    return comb(n, converted) * beta_function(converted + alpha, n - converted + beta) / beta_function(alpha, beta)\n",
        "\n",
        "def marginal_likelihood_3(alpha, beta, n, converted): # via log (maybe necessary if n too large)\n",
        "    # Log transformation of marginal likelihood function\n",
        "    log_comb = gammaln(n+1) - gammaln(converted+1) - gammaln(n-converted+1)\n",
        "    log_beta1 = gammaln(converted + alpha) + gammaln(n - converted + beta) - gammaln(n + alpha + beta)\n",
        "    log_beta2 = gammaln(alpha) + gammaln(beta) - gammaln(alpha + beta)\n",
        "    log_result = log_comb + log_beta1 - log_beta2\n",
        "    return np.exp(log_result)\n",
        "\n",
        "\n",
        "def bernoulli_likelihood(hypothesis_mean, converted, n):\n",
        "    # Bernoulli likelihood (through log to avoid exploding values)\n",
        "    log_conversions = converted * np.log(hypothesis_mean)\n",
        "    log_non_conversions = (n - converted) * np.log(1 - hypothesis_mean)\n",
        "    log_likelihood = log_conversions + log_non_conversions\n",
        "    return log_likelihood\n"
      ],
      "metadata": {
        "id": "KV7Vt3dqUrOU"
      },
      "execution_count": null,
      "outputs": []
    },
    {
      "cell_type": "code",
      "source": [
        "# Input data\n",
        "c1 = [C_prior[\"alpha\"], C_prior[\"beta\"], T[\"n\"], T[\"converted\"]] # T + H0 (C prior)\n",
        "c2 = [T_prior[\"alpha\"], T_prior[\"beta\"], T[\"n\"], T[\"converted\"]] # T + H1 (T prior)\n",
        "c3 = [C_prior[\"alpha\"], C_prior[\"beta\"], C[\"n\"], C[\"converted\"]] # C + H0 (C prior)\n",
        "c4 = [T_prior[\"alpha\"], T_prior[\"beta\"], C[\"n\"], C[\"converted\"]] # C + H1 (T prior)\n",
        "\n",
        "# Calculate BF\n",
        "numerator = marginal_likelihood_3(*c2)\n",
        "denominator = marginal_likelihood_3(*c1)\n",
        "bayes_factor = numerator / denominator\n",
        "\n",
        "print(\"BF:\", round(bayes_factor, 3))"
      ],
      "metadata": {
        "colab": {
          "base_uri": "https://localhost:8080/"
        },
        "id": "Lap_A0GsUrX0",
        "outputId": "1dc829b9-c77c-430a-86d7-cad6ba1042fc"
      },
      "execution_count": null,
      "outputs": [
        {
          "output_type": "stream",
          "name": "stdout",
          "text": [
            "BF: 117.23\n"
          ]
        }
      ]
    },
    {
      "cell_type": "code",
      "source": [
        "# idea: https://chat.openai.com/share/6a6bbec6-cbd6-4a24-8289-29872da3ee03\n",
        "from scipy.special import betaln\n",
        "\n",
        "def compute_log_bayes_factor(alpha_0, beta_0, alpha_t, beta_t, alpha_c, beta_c, s_t, n_t, s_c, n_c):\n",
        "    # Log probability of data under H0\n",
        "    log_prob_data_H0 = betaln(alpha_0 + s_t + s_c, beta_0 + n_t + n_c - s_t - s_c) - betaln(alpha_0, beta_0)\n",
        "\n",
        "    # Log probability of data under H1 for treatment group\n",
        "    log_prob_data_H1_treatment = betaln(alpha_t + s_t, beta_t + n_t - s_t) - betaln(alpha_t, beta_t)\n",
        "\n",
        "    # Log probability of data under H1 for control group\n",
        "    log_prob_data_H1_control = betaln(alpha_c + s_c, beta_c + n_c - s_c) - betaln(alpha_c, beta_c)\n",
        "\n",
        "    # Log joint probability of data under H1\n",
        "    log_prob_data_H1 = log_prob_data_H1_treatment + log_prob_data_H1_control\n",
        "\n",
        "    # Compute Log Bayes Factor\n",
        "    log_BF_10 = log_prob_data_H1 - log_prob_data_H0\n",
        "    bf_10 = np.exp(log_BF_10)\n",
        "\n",
        "    return bf_10\n",
        "\n",
        "# Example usage:\n",
        "alpha_0, beta_0 = C_prior[\"alpha\"], C_prior[\"beta\"]\n",
        "alpha_t, beta_t = T_prior[\"alpha\"], T_prior[\"beta\"]\n",
        "alpha_c, beta_c = C_prior[\"alpha\"], C_prior[\"beta\"]\n",
        "s_t, n_t = T[\"converted\"], T[\"n\"]  # Successes and total observations for treatment group\n",
        "s_c, n_c = C[\"converted\"], C[\"n\"]  # Successes and total observations for control group\n",
        "\n",
        "BF_10 = compute_log_bayes_factor(alpha_0, beta_0, alpha_t, beta_t, alpha_c, beta_c, s_t, n_t, s_c, n_c)\n",
        "print(f\"Bayes Factor (BF_10) = {BF_10}\")\n"
      ],
      "metadata": {
        "colab": {
          "base_uri": "https://localhost:8080/"
        },
        "id": "Ayi2lNntkeJH",
        "outputId": "2be07889-97d4-4c4e-a214-96767901fd49"
      },
      "execution_count": null,
      "outputs": [
        {
          "output_type": "stream",
          "name": "stdout",
          "text": [
            "Bayes Factor (BF_10) = 1.6014438939676447e+102\n"
          ]
        }
      ]
    },
    {
      "cell_type": "code",
      "source": [
        "c5 = [mean_C, T[\"converted\"], T[\"n\"]] # T + prior H0\n",
        "c6 = [mean_T, T[\"converted\"], T[\"n\"]] # T + prior H1\n",
        "c7 = [mean_C, C[\"converted\"], C[\"n\"]] # C + prior H0\n",
        "c8 = [mean_T, C[\"converted\"], C[\"n\"]] # C + prior H1\n",
        "\n",
        "# Calculate BF\n",
        "numerator_log_likelihood = bernoulli_likelihood(*c6)\n",
        "denominator_log_likelihood = bernoulli_likelihood(*c5)\n",
        "bayes_factor_old = np.exp(numerator_log_likelihood - denominator_log_likelihood)\n",
        "\n",
        "print(\"\\nBF (old & likely wrong):\", round(bayes_factor_old, 3))"
      ],
      "metadata": {
        "colab": {
          "base_uri": "https://localhost:8080/"
        },
        "id": "dHSJQO-MjUdf",
        "outputId": "8c4a5d74-9a8a-4d80-d209-853bfce4be57"
      },
      "execution_count": null,
      "outputs": [
        {
          "output_type": "stream",
          "name": "stdout",
          "text": [
            "\n",
            "BF (old & likely wrong): 1.2542655510724853e+208\n"
          ]
        }
      ]
    },
    {
      "cell_type": "code",
      "source": [
        "# Generate the samples\n",
        "samples_numerator = marginal_likelihood_1(*c1)\n",
        "samples_denominator = marginal_likelihood_1(*c2)\n",
        "\n",
        "print(c1, c2)\n",
        "\n",
        "# Plotting the distribution of the samples\n",
        "sns.kdeplot(samples_numerator, fill = True, label = \"Numerator\")\n",
        "sns.kdeplot(samples_denominator, fill = True, label = \"Denominator\")\n",
        "plt.xlabel(\"Value\")\n",
        "plt.ylabel(\"Density\")\n",
        "plt.xlim(0,1)\n",
        "plt.title(\"Posterior Distribution\")\n",
        "plt.legend()\n",
        "plt.grid(True, which=\"both\", linestyle=\"--\", linewidth=0.5)\n",
        "plt.show()\n",
        "\n",
        "# Plotting the distribution of the samples\n",
        "sns.kdeplot(samples_numerator, fill = True, label = \"Numerator\")\n",
        "sns.kdeplot(samples_denominator, fill = True, label = \"Denominator\")\n",
        "plt.xlabel(\"Value\")\n",
        "plt.ylabel(\"Density\")\n",
        "plt.title(\"Posterior Distribution\")\n",
        "plt.legend()\n",
        "plt.grid(True, which=\"both\", linestyle=\"--\", linewidth=0.5)\n",
        "plt.show()"
      ],
      "metadata": {
        "colab": {
          "base_uri": "https://localhost:8080/",
          "height": 944
        },
        "id": "nrUqPqjsfko1",
        "outputId": "16c6fa81-34fe-4b1b-c9df-f8bff62b2991"
      },
      "execution_count": null,
      "outputs": [
        {
          "output_type": "stream",
          "name": "stdout",
          "text": [
            "[501, 501, 100000, 54892] [551, 451, 100000, 54892]\n"
          ]
        },
        {
          "output_type": "display_data",
          "data": {
            "text/plain": [
              "<Figure size 640x480 with 1 Axes>"
            ],
            "image/png": "[encoded data removed]"
          },
          "metadata": {}
        },
        {
          "output_type": "display_data",
          "data": {
            "text/plain": [
              "<Figure size 640x480 with 1 Axes>"
            ],
            "image/png": "[encoded data removed]"
          },
          "metadata": {}
        }
      ]
    },
    {
      "cell_type": "code",
      "source": [
        "post_odds = prior_odds * bayes_factor\n"
      ],
      "metadata": {
        "id": "yakQdKFZiQbi"
      },
      "execution_count": null,
      "outputs": []
    }
  ]
}